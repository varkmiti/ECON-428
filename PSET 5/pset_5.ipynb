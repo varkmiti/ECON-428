{
 "cells": [
  {
   "cell_type": "code",
   "execution_count": 61,
   "metadata": {},
   "outputs": [],
   "source": [
    "import numpy as np\n",
    "import pandas as pd\n",
    "import matplotlib.pyplot as plt\n",
    "import seaborn as sns\n",
    "import statsmodels.api as sm\n",
    "import datetime\n",
    "\n",
    "from collections import Counter"
   ]
  },
  {
   "cell_type": "markdown",
   "metadata": {},
   "source": [
    "## 11\n",
    "### A"
   ]
  },
  {
   "cell_type": "code",
   "execution_count": 62,
   "metadata": {},
   "outputs": [
    {
     "data": {
      "image/png": "[encoded data removed]",
      "text/plain": [
       "<Figure size 640x480 with 1 Axes>"
      ]
     },
     "metadata": {},
     "output_type": "display_data"
    }
   ],
   "source": [
    "films_day = pd.read_stata('films_day.dta')\n",
    "films_day_titles = Counter(films_day['title'])\n",
    "\n",
    "# plot number of times each film was shown by title using histogram and sns - MV\n",
    "sns.histplot(films_day_titles, bins=20)\n",
    "\n",
    "# add labels and title\n",
    "plt.xlabel('Number of times shown')\n",
    "plt.ylabel('Number of films')\n",
    "plt.title('Number of times each film was shown')\n",
    "plt.show()"
   ]
  },
  {
   "cell_type": "markdown",
   "metadata": {},
   "source": [
    "### B"
   ]
  },
  {
   "cell_type": "code",
   "execution_count": 63,
   "metadata": {},
   "outputs": [
    {
     "name": "stdout",
     "output_type": "stream",
     "text": [
      "1698\n",
      "1381\n"
     ]
    }
   ],
   "source": [
    "print(len(films_day['title'].unique()))\n",
    "films_day = films_day[films_day['dropped']== 0]\n",
    "print(len(films_day['title'].unique()))"
   ]
  },
  {
   "cell_type": "markdown",
   "metadata": {},
   "source": [
    "### C"
   ]
  },
  {
   "cell_type": "code",
   "execution_count": 64,
   "metadata": {},
   "outputs": [
    {
     "name": "stdout",
     "output_type": "stream",
     "text": [
      "(500) Days of Summer has smallest date value 18116 and was released on July 17, 2009\n",
      "18116 days before July 17, 2009 is 1959-12-11\n"
     ]
    }
   ],
   "source": [
    "print(f\"{films_day.iloc[0, :].title} has smallest date value {films_day[films_day['title'] == films_day.iloc[0, :].title].date.min()} and was released on July 17, 2009\")\n",
    "print(f\"{films_day[films_day['title'] == films_day.iloc[0, :]['title']]['date'].min()} days before July 17, 2009 is {(pd.to_datetime('2009-07-17') - pd.Timedelta(days=films_day[films_day['title'] == films_day.iloc[0, :]['title']]['date'].min())).date()}\")\n",
    "reference_date = (pd.to_datetime('2009-07-17') - pd.Timedelta(days=films_day[films_day['title'] == films_day.iloc[0, :]['title']]['date'].min())).date()"
   ]
  },
  {
   "cell_type": "markdown",
   "metadata": {},
   "source": [
    "### D"
   ]
  },
  {
   "cell_type": "code",
   "execution_count": 65,
   "metadata": {},
   "outputs": [
    {
     "data": {
      "text/plain": [
       "0       2009-07-17\n",
       "1       2009-03-06\n",
       "2       2010-11-04\n",
       "3       2004-04-03\n",
       "4       2007-06-02\n",
       "           ...    \n",
       "28245   2002-09-07\n",
       "28246   2002-09-05\n",
       "28247   2002-09-12\n",
       "28248   2002-09-13\n",
       "28249   2002-09-14\n",
       "Name: new_date, Length: 24855, dtype: datetime64[ns]"
      ]
     },
     "execution_count": 65,
     "metadata": {},
     "output_type": "execute_result"
    }
   ],
   "source": [
    "reference_date = pd.to_datetime(reference_date)\n",
    "\n",
    "# Apply a function to calculate new date for each film\n",
    "films_day['new_date'] = films_day['date'].apply(lambda x: (reference_date + pd.Timedelta(days=x) - pd.Timedelta(days=1)))\n",
    "\n",
    "films_day['new_date']"
   ]
  },
  {
   "cell_type": "markdown",
   "metadata": {},
   "source": [
    "### E"
   ]
  },
  {
   "cell_type": "code",
   "execution_count": 66,
   "metadata": {},
   "outputs": [],
   "source": [
    "# dummy for friday, saturday, and sunday\n",
    "films_day['friday'] = films_day['new_date'].apply(lambda x: 1 if x.weekday() == 4 else 0)\n",
    "films_day['saturday'] = films_day['new_date'].apply(lambda x: 1 if x.weekday() == 5 else 0)\n",
    "films_day['sunday'] = films_day['new_date'].apply(lambda x: 1 if x.weekday() == 6 else 0)"
   ]
  },
  {
   "cell_type": "markdown",
   "metadata": {},
   "source": [
    "### F"
   ]
  },
  {
   "cell_type": "code",
   "execution_count": 69,
   "metadata": {},
   "outputs": [],
   "source": [
    "# create dummies for each week of the year\n",
    "films_day['week'] = films_day['new_date'].apply(lambda x: x.weekofyear)\n",
    "films_day['week'] = films_day['week'].astype('category')\n",
    "films_day = pd.get_dummies(films_day, columns=['week'], drop_first=True)"
   ]
  },
  {
   "cell_type": "markdown",
   "metadata": {},
   "source": [
    "### G"
   ]
  },
  {
   "cell_type": "code",
   "execution_count": 70,
   "metadata": {},
   "outputs": [],
   "source": [
    "# create dummies for each year \n",
    "films_day['year'] = films_day['new_date'].apply(lambda x: x.year)\n",
    "films_day['year'] = films_day['year'].astype('category')\n",
    "films_day = pd.get_dummies(films_day, columns=['year'], drop_first=True)\n"
   ]
  },
  {
   "cell_type": "markdown",
   "metadata": {},
   "source": [
    "### H"
   ]
  }
 ],
 "metadata": {
  "kernelspec": {
   "display_name": "data",
   "language": "python",
   "name": "python3"
  },
  "language_info": {
   "codemirror_mode": {
    "name": "ipython",
    "version": 3
   },
   "file_extension": ".py",
   "mimetype": "text/x-python",
   "name": "python",
   "nbconvert_exporter": "python",
   "pygments_lexer": "ipython3",
   "version": "3.10.9"
  }
 },
 "nbformat": 4,
 "nbformat_minor": 2
}
