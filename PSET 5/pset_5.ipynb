{
 "cells": [
  {
   "cell_type": "code",
   "execution_count": 51,
   "metadata": {},
   "outputs": [],
   "source": [
    "import numpy as np\n",
    "import pandas as pd\n",
    "import matplotlib.pyplot as plt\n",
    "import seaborn as sns\n",
    "import statsmodels.api as sm\n",
    "import datetime\n",
    "from sklearn.model_selection import cross_val_score\n",
    "from collections import Counter\n",
    "from mlxtend.feature_selection import SequentialFeatureSelector as SFS\n",
    "from sklearn.linear_model import LinearRegression, Lasso, LassoCV, Ridge, RidgeCV"
   ]
  },
  {
   "cell_type": "markdown",
   "metadata": {},
   "source": [
    "# 1\n",
    "I read it. "
   ]
  },
  {
   "cell_type": "markdown",
   "metadata": {},
   "source": [
    "# 2\n",
    "*Social learning* denotes the process by which agents (people) update their beliefs and preferences based on the observations of others actions and outcomes. In this case, knowing that a lot of other people have watched a movie might make someone more likely to also watch that movie, even if other metrics of the movie (like the plot, the cost, the runtime, etc.) are not known or equal between movies. On the other hand, *social utility* is the utility that an agent derives from the actions of others. For example, a movie that has received critical acclamation might be more valuable to watch, because of some social utility that is derived from way the movie comments on society, or the way it is perceived by others."
   ]
  },
  {
   "cell_type": "markdown",
   "metadata": {},
   "source": [
    "# 3\n",
    "I'm going to assume that we still cannot measure social utility or individual utility directly, so we are going to use a proxy for utility. \n",
    "\n",
    "Consider a setup where one groups of people are given some money and asked to place some fraction in a social pool and some fraction in an individual pool. The money in the social pool is then distributed equally among all members of the group, while the money in the individual pool is kept by the individual. There is some multiplier on the social pool greater than one, such placing money into the social pool make it more valuable than placing it in the individual pool. This multiplier serves as a proxy for the extra utility derived from social interactions such as road building or community events that cannot be achieved by individuals alone. \n",
    "\n",
    "In one random group, the members are able to observe the actions of other members, meaning that they can see if other people are placing money in the social pool or the individual pool. In another random group, the members are not able to observe the actions of other members. In this case, we can directly measure social utility as the sum of all the money: that is the money in the social pool times the multiplier plus the total amount of money in the individual pools. Moreover, we can directly measure the affects of social learning as we can compare a setting in which people can observe and *learn* from others to a setting in which they cannot."
   ]
  },
  {
   "cell_type": "markdown",
   "metadata": {},
   "source": [
    "# 4\n",
    "No, this is not a causal relationship. First off, there is really no reason why this should be a causal relationship unless one just assumes network effects. It is very easy to think of confounding variables. For example, maybe one film was released nationally and one was released regionally. A regional versus a local release could easily affect the number of people who watched the movie simultaneously in both the earlier and the later weeks. A second confounding variable could be the genre or quality of the movie. A good movie in a desirable genre could just attract more viewers without benefiting from any network effects. For example, the same people could watch the movie over and over again. \n",
    "\n",
    "Moreover, there is a lot that can happen that does not involve the number of people to watch a movie in a specific week that could boost or alter viewership. For example, a very popular movie might have a scandal that causes people to stop watching it. An initially popular movie could be superseded by a new movie that is even more popular. A very unpopular movie might be boosted by a random tweet from a celebrity. In any case, just assuming a regression on the number of people who watched a movie in a specific week is going to be a very poor model without controlling for a lot of other factors."
   ]
  },
  {
   "cell_type": "markdown",
   "metadata": {},
   "source": [
    "# 5\n",
    "One way to control for those factors might be something like a social media sentiment score. I know this is a bit nebulous, but you can use LLMs (and simpler metrics, like the number of tweets that contain the strings {Movie Title} and {awesome!/good/bad/ etc.} )to gauge reception on a platform like twitter. This provides a extra data-point that can be controlled for in a regression. This might account for factors like critical reception, political discourse, and celebrity praise. Moreover, this sentiment score can be updated weekly, so if something happens outside of just the number of people who watched a movie, we can still account for it."
   ]
  },
  {
   "cell_type": "markdown",
   "metadata": {},
   "source": [
    "# 6\n",
    "Yes, if Sands and Gilchrist were able to control for all confounding variables and assume CIA then they would be able to make stronger claims around the causal effects of more movie watchers in a specific week on the number of people who watched the movie in the next week. However, I think that this is a very strong assumption to make. I think that there are a lot of factors that could affect the number of people who watched a movie in a specific week that are not accounted for in the model they present in the paper. So, I agree in the abstract that if one can observe and control confounding variable then one can make strong causal claims, but I think that this is a very difficult thing to do in practice.\n",
    "\n",
    "In terms of disambiguating between social utility and learning, controlling for these effects would provide insight into telling these effects apart. This is because some of these confounding variables are related to social learning and some are related to social utility. For example, we might expect that a movie that has a very high social media sentiment score might have increased social utility (for example, one might argue that a movie like *Star Wars* is a socially useful movie and the high number of viewers is an effect of the social utility of the movie, not a learned social behavior). Part of the problem here is that depending on how wants to define social utility, one might argue that anything that a lot of people are doing is socially useful as it builds culture and community. I understand that there might be a more technical definition based on specific metrics, but given that utility is a very nebulous concept, I think in general it is very difficult to disambiguate between social utility and learning unless one places very precise bounds on what one means by utility. Given in this question that we are able to control for all confounding variables, it is probably possible given adequate, precision in definitions, but in practice I think it is very difficult to do."
   ]
  },
  {
   "cell_type": "markdown",
   "metadata": {},
   "source": [
    "# 7\n",
    "1. Social learning suggests that agents learn from the actions of others, and in particular, that they update their beliefs and preferences based on the observations of others actions and outcomes. Therefore, if a lot of people watch a movie that is very bad and this feedback is well-known, then one might expect that fewer people would watch the movie in the future. On the other hand, social utility suggests that agents derive utility from the actions of others. Therefore, if a lot of people watch a movie that is very bad and this feedback is well-known, then one might expect that more people would watch the movie in the future. This is because the social utility of the movie is high due to shared experience of watching the film, even if it is not good. Therefore, we should be able to find examples of movies that are very bad that see a precipitous drop in viewership if social learning is the dominant effect, and we should be able to find examples of movies that are very bad that see sustained or increasing viewership if social utility is the dominant effect.\n",
    "\n",
    "2. We also need to test for the precision of information. If social learning is dominant, then we should expect precise information to drive viewership more than imprecise information. This is because precise information is more likely to be accurate and therefore more likely to be useful. For example, this might include looking at examples where a movie is released at a film festival before being released nationally. This is \"a lot of information\" to give about a movie to critics. So, if people know that a movie has been vetted by critics with precise information, and social learning holds, then we would expect people to be particularly responsive to their information. If social learning is not a dominant effect, then we would expect that people would be less responsive to precise information--that is to say, the information from a film festival would not alter behavior as compared to a movie that only has a trailer."
   ]
  },
  {
   "cell_type": "markdown",
   "metadata": {},
   "source": [
    "# 8\n",
    "I will quote from the paper: \n",
    "\n",
    "\"We proxy for realized movie quality with ratings by expert reviewers.\n",
    "The ratings come from IMDb’s top 1,000 voters, a group characterized\n",
    "by IMDb as “the 1000 people who have voted for the most titles in [their] ratings poll.”\n",
    "\n",
    "I am not particularly familiar with the quality of these reviewers per se (are they biased in some obvious way against some genres, release dates, etc?), however, I do think that this is probably about as good of a proxy as is easily obtainable. It would be better if all reviewers were not IMDb reviewers in order to control for any sources of error specific into our metric. \n",
    "\n",
    "\n",
    "For the precision of information, Sands and Gilchrist used production budget as a proximal metric. I am much more skeptical about the utility of this metric. They are basing this on the idea that a higher production budget implies a higher advertising budget which implies greater precision of information. On the surface, this connection makes sense as a blockbuster like Star Wars advertizes a lot more than a smaller indie film. However, there are a lot of assumptions that go into this proxy. To me, the important one is that \"precision of information\" is a somewhat ill-defined term. Advertisements need not reveal much about the movie, but sometimes something like the name can reveal quite a bit. Take for example \"The Theory of Everything\" and \"Oppenheimer.\" Most people generally know what Oppenheimer is going to be about without having to see a trailer. On the other hand, \"The Theory of Everything,\" despite being another movie about a famous scientist, needs trailers to reveal the plot. Therefore, I do not think you can draw a straight line between production budget and precision of information."
   ]
  },
  {
   "cell_type": "markdown",
   "metadata": {},
   "source": [
    "# 9\n",
    "I will again quote from the paper: \n",
    "\n",
    "\"That is not to say, however, that the observed relationship is causal. As Einav (2007) demonstrates, the seasonality of viewership is driven by seasonality both in underlying demand and, since the supply side takes into account expected demand in timing releases, in the number and quality of movies available in theaters.\"\n",
    "\n",
    "That is to say that a potential causal relationship is complicated by the manner in which the supply side chooses to release movies. They understand (some) of these seasonal effects, and so they act to use them to their advantage. This is a confounding variable that prevents us from making a causal claim."
   ]
  },
  {
   "cell_type": "markdown",
   "metadata": {},
   "source": [
    "# 10\n",
    "The regression is not saturated because there some potential parameters that are not included in the model. For example, there are not interaction terms between these variables. It seems likely that Gilchrist and Sands would not want to saturate their model for several reasons. Crucially, they are likely trying to avoid over fitting and want to keep the model simple and easy to interpret. \n",
    "\n",
    "The advantage of saturation is that it can account for many effects and be very accurate. Specifically, due to the interoperability of linear regressions, this also means that we can easily understand the effects of many variables on the outcome. However, the disadvantage is that there is a huge risk of overfitting and just fitting to noise. As the hint suggests, each holiday only occurs once a year. So, if you had a dummy variable for each holiday, you would have very little data per parameter. This would make the model very noisy and likely to overfit. I think trying to keep their model robust was likely the motivation for not saturating the model."
   ]
  },
  {
   "cell_type": "markdown",
   "metadata": {},
   "source": [
    "# 11\n",
    "## A"
   ]
  },
  {
   "cell_type": "code",
   "execution_count": 52,
   "metadata": {},
   "outputs": [
    {
     "data": {
      "image/png": "[encoded data removed]",
      "text/plain": [
       "<Figure size 640x480 with 1 Axes>"
      ]
     },
     "metadata": {},
     "output_type": "display_data"
    }
   ],
   "source": [
    "films_day = pd.read_stata('films_day.dta')\n",
    "\n",
    "# plot number of times each film was shown by title using histogram and sns - MV\n",
    "film_counts = films_day['title'].value_counts()\n",
    "sns.histplot(film_counts, bins=20)\n",
    "\n",
    "# add labels and title\n",
    "plt.xlabel('Number of times shown')\n",
    "plt.ylabel('Number of films')\n",
    "plt.title('Number of times each film was shown')\n",
    "plt.show()"
   ]
  },
  {
   "cell_type": "markdown",
   "metadata": {},
   "source": [
    "### B"
   ]
  },
  {
   "cell_type": "code",
   "execution_count": 53,
   "metadata": {},
   "outputs": [
    {
     "name": "stdout",
     "output_type": "stream",
     "text": [
      "1698\n",
      "1381\n"
     ]
    }
   ],
   "source": [
    "print(len(films_day['title'].unique()))\n",
    "films_day = films_day[films_day['dropped']== 0]\n",
    "print(len(films_day['title'].unique()))"
   ]
  },
  {
   "cell_type": "markdown",
   "metadata": {},
   "source": [
    "### C"
   ]
  },
  {
   "cell_type": "code",
   "execution_count": 54,
   "metadata": {},
   "outputs": [
    {
     "name": "stdout",
     "output_type": "stream",
     "text": [
      "(500) Days of Summer has smallest date value 18116 and was released on July 17, 2009\n",
      "18116 days before July 17, 2009 is 1959-12-11\n"
     ]
    }
   ],
   "source": [
    "print(f\"{films_day.iloc[0, :].title} has smallest date value {films_day[films_day['title'] == films_day.iloc[0, :].title].date.min()} and was released on July 17, 2009\")\n",
    "print(f\"{films_day[films_day['title'] == films_day.iloc[0, :]['title']]['date'].min()} days before July 17, 2009 is {(pd.to_datetime('2009-07-17') - pd.Timedelta(days=films_day[films_day['title'] == films_day.iloc[0, :]['title']]['date'].min())).date()}\")\n",
    "reference_date = (pd.to_datetime('2009-07-17') - pd.Timedelta(days=films_day[films_day['title'] == films_day.iloc[0, :]['title']]['date'].min())).date()"
   ]
  },
  {
   "cell_type": "markdown",
   "metadata": {},
   "source": [
    "### D"
   ]
  },
  {
   "cell_type": "code",
   "execution_count": 55,
   "metadata": {},
   "outputs": [
    {
     "data": {
      "text/plain": [
       "0       2009-07-17\n",
       "1       2009-03-06\n",
       "2       2010-11-04\n",
       "3       2004-04-03\n",
       "4       2007-06-02\n",
       "           ...    \n",
       "28245   2002-09-07\n",
       "28246   2002-09-05\n",
       "28247   2002-09-12\n",
       "28248   2002-09-13\n",
       "28249   2002-09-14\n",
       "Name: new_date, Length: 24855, dtype: datetime64[ns]"
      ]
     },
     "execution_count": 55,
     "metadata": {},
     "output_type": "execute_result"
    }
   ],
   "source": [
    "reference_date = pd.to_datetime(reference_date)\n",
    "\n",
    "# Apply a function to calculate new date for each film\n",
    "films_day['new_date'] = films_day['date'].apply(lambda x: (reference_date + pd.Timedelta(days=x) - pd.Timedelta(days=1)))\n",
    "\n",
    "films_day['sat_date'] = films_day['sat_date'].apply(lambda x: (reference_date + pd.Timedelta(days=x) - pd.Timedelta(days=1)))\n",
    "\n",
    "films_day['new_date']"
   ]
  },
  {
   "cell_type": "markdown",
   "metadata": {},
   "source": [
    "### E"
   ]
  },
  {
   "cell_type": "code",
   "execution_count": 56,
   "metadata": {},
   "outputs": [],
   "source": [
    "# dummy for friday, saturday, and sunday\n",
    "films_day['friday'] = films_day['new_date'].apply(lambda x: 1 if x.weekday() == 4 else 0)\n",
    "films_day['saturday'] = films_day['new_date'].apply(lambda x: 1 if x.weekday() == 5 else 0)\n",
    "films_day['sunday'] = films_day['new_date'].apply(lambda x: 1 if x.weekday() == 6 else 0)"
   ]
  },
  {
   "cell_type": "markdown",
   "metadata": {},
   "source": [
    "### F"
   ]
  },
  {
   "cell_type": "code",
   "execution_count": 57,
   "metadata": {},
   "outputs": [],
   "source": [
    "# create dummies for each week of the year\n",
    "films_day['week'] = films_day['new_date'].apply(lambda x: x.weekofyear)\n",
    "films_day['week'] = films_day['week'].astype('category')\n",
    "films_day = pd.get_dummies(films_day, columns=['week'], drop_first=True)"
   ]
  },
  {
   "cell_type": "markdown",
   "metadata": {},
   "source": [
    "### G"
   ]
  },
  {
   "cell_type": "code",
   "execution_count": 58,
   "metadata": {},
   "outputs": [],
   "source": [
    "# create dummies for each year \n",
    "films_day['year'] = films_day['new_date'].apply(lambda x: x.year)\n",
    "films_day['year'] = films_day['year'].astype('category')\n",
    "films_day = pd.get_dummies(films_day, columns=['year'], drop_first=True)\n"
   ]
  },
  {
   "cell_type": "markdown",
   "metadata": {},
   "source": [
    "### H"
   ]
  },
  {
   "cell_type": "code",
   "execution_count": 59,
   "metadata": {},
   "outputs": [],
   "source": [
    "# reate a plot where on the x-axis, you have the time since a movie was introduced \n",
    "# (week and days) and on the y-axis, you have the number of tickets in that week, averaged across movies.\n",
    "\n",
    "# I might be stupid, but this is probably the fastest way to do this?? - MV \n",
    "release_date_dict = {}\n",
    "for row in range(films_day.shape[0]):\n",
    "    title = films_day.iloc[row, :]['title']\n",
    "    date = films_day.iloc[row, :]['new_date']\n",
    "    if title not in release_date_dict.keys():\n",
    "        release_date_dict[title] = date\n",
    "    else:\n",
    "        if date < release_date_dict[title]:\n",
    "            release_date_dict[title] = date\n",
    "    \n",
    "# put the release date in each row\n",
    "films_day['release_date'] = films_day['title'].apply(lambda x: release_date_dict[x])\n",
    "\n",
    "films_day['days_since_release'] = films_day['new_date'] - films_day['release_date']\n",
    "films_day['weeks_since_release'] = films_day['days_since_release'].apply(lambda x: x.days//7)"
   ]
  },
  {
   "cell_type": "code",
   "execution_count": 60,
   "metadata": {},
   "outputs": [
    {
     "data": {
      "image/png": "[encoded data removed]",
      "text/plain": [
       "<Figure size 640x480 with 1 Axes>"
      ]
     },
     "metadata": {},
     "output_type": "display_data"
    }
   ],
   "source": [
    "# group by weeks since release and sum the tickets\n",
    "films_day_grouped = films_day.groupby('weeks_since_release')['tickets'].sum()\n",
    "\n",
    "# plot the tickets by weeks since release\n",
    "plt.plot(films_day_grouped)\n",
    "plt.xlabel('Weeks since release')\n",
    "plt.ylabel('Tickets sold')\n",
    "plt.title('Tickets Sold Over Time Since Release')\n",
    "plt.show()"
   ]
  },
  {
   "cell_type": "markdown",
   "metadata": {},
   "source": [
    "# 12\n",
    "Gilchrist and Sands propose using weather shocks as an instrumental variable. \n",
    "\n",
    "They argue for exogeneity by asking if the weather is correlated with expected demand and if there is a correlation with quality. In both cases, they essentially just compute correlations and find very little or no correlation. This makes sense since movie releases are planned well in advance and are not likely to be affected by weather.\n",
    "\n",
    "They argue for exclusion on the grounds that the weather does not affect a person's feelings about the movie. Moreover, they argue that any affect of weather will be localized to that initial shock and will not affect future viewership. Thus, the only affect on future viewership will be through the number of people who watched the movie in the initial week.\n",
    "\n",
    "They argue for relevance on the grounds that weather shocks will affect the number of people who watch a movie in a specific week. This is because people, according to the paper, people are more likely to go to the movies when it is raining, but would rather be outside when it is sunny. Thus, these weather shocks are relevant to the number of people who watch a movie in a specific week."
   ]
  },
  {
   "cell_type": "markdown",
   "metadata": {},
   "source": [
    "# 13"
   ]
  },
  {
   "cell_type": "code",
   "execution_count": 61,
   "metadata": {},
   "outputs": [
    {
     "name": "stdout",
     "output_type": "stream",
     "text": [
      "                            OLS Regression Results                            \n",
      "==============================================================================\n",
      "Dep. Variable:                tickets   R-squared:                       0.234\n",
      "Model:                            OLS   Adj. R-squared:                  0.217\n",
      "Method:                 Least Squares   F-statistic:                     14.23\n",
      "Date:                Wed, 28 Feb 2024   Prob (F-statistic):          2.21e-173\n",
      "Time:                        21:11:44   Log-Likelihood:                -5672.7\n",
      "No. Observations:                4143   AIC:                         1.152e+04\n",
      "Df Residuals:                    4055   BIC:                         1.208e+04\n",
      "Df Model:                          87                                         \n",
      "Covariance Type:            nonrobust                                         \n",
      "=======================================================================================\n",
      "                          coef    std err          t      P>|t|      [0.025      0.975]\n",
      "---------------------------------------------------------------------------------------\n",
      "const                   0.8996      0.573      1.569      0.117      -0.225       2.024\n",
      "weeks_since_release -3.733e-15   1.47e-15     -2.535      0.011   -6.62e-15   -8.47e-16\n",
      "friday                  0.0774      0.037      2.072      0.038       0.004       0.151\n",
      "saturday               -0.2554      0.038     -6.750      0.000      -0.330      -0.181\n",
      "sunday              -6.177e-15   1.05e-14     -0.589      0.556   -2.67e-14    1.44e-14\n",
      "hhmlk                1.637e-15   3.39e-15      0.483      0.629   -5.01e-15    8.28e-15\n",
      "hhpres              -1.634e-15   6.45e-15     -0.253      0.800   -1.43e-14     1.1e-14\n",
      "hhmem                1.418e-15   5.43e-15      0.261      0.794   -9.24e-15    1.21e-14\n",
      "hhlabor             -3.437e-15   3.09e-15     -1.111      0.267    -9.5e-15    2.63e-15\n",
      "hhcolum             -5.353e-16   1.06e-15     -0.507      0.612   -2.61e-15    1.53e-15\n",
      "hhthankwed          -3.449e-17   1.29e-15     -0.027      0.979   -2.56e-15    2.49e-15\n",
      "hhthankthur         -1.642e-15   1.31e-15     -1.253      0.210   -4.21e-15    9.27e-16\n",
      "hhthankwkend           -0.4739      0.151     -3.148      0.002      -0.769      -0.179\n",
      "hhchristmas2023        -0.0267      0.128     -0.208      0.835      -0.279       0.225\n",
      "hhchristmas24          -0.4365      0.183     -2.388      0.017      -0.795      -0.078\n",
      "hhchristmas25           0.1539      0.188      0.818      0.413      -0.215       0.523\n",
      "hhchristmas2630        -0.0977      0.186     -0.525      0.599      -0.463       0.267\n",
      "hhnewyear31            -0.2625      0.189     -1.387      0.165      -0.634       0.108\n",
      "hhnewyear1             -0.2878      0.388     -0.741      0.459      -1.049       0.474\n",
      "hhnewyear23            -0.1437      0.153     -0.942      0.346      -0.443       0.155\n",
      "hhvet                  -0.0264      0.365     -0.072      0.942      -0.741       0.689\n",
      "hhjuly4                -0.2035      0.161     -1.265      0.206      -0.519       0.112\n",
      "hhdayoff                0.5514      1.132      0.487      0.626      -1.669       2.772\n",
      "hhvalen                 0.5349      0.401      1.333      0.182      -0.252       1.322\n",
      "hhstpat                 0.2359      0.384      0.614      0.539      -0.518       0.989\n",
      "hhwkdchrispre          -0.0267      0.128     -0.208      0.835      -0.279       0.225\n",
      "hhwkdchris             -0.2826      0.190     -1.485      0.138      -0.656       0.090\n",
      "hhwkdchrispost         -0.0977      0.186     -0.525      0.599      -0.463       0.267\n",
      "hhwkdnewyr             -0.2625      0.189     -1.387      0.165      -0.634       0.108\n",
      "hhwkdnewyrpost         -0.1437      0.153     -0.942      0.346      -0.443       0.155\n",
      "hhwkdvet               -0.2187      0.325     -0.672      0.502      -0.857       0.419\n",
      "hhwkdjul4              -0.2035      0.161     -1.265      0.206      -0.519       0.112\n",
      "hhwkdother              0.4049      0.686      0.590      0.555      -0.941       1.751\n",
      "hheaster               -0.1326      0.180     -0.737      0.461      -0.485       0.220\n",
      "hheastersat            -0.1424      0.180     -0.791      0.429      -0.495       0.210\n",
      "hheasterfri             0.0801      0.180      0.445      0.656      -0.273       0.433\n",
      "hhhallow               -0.7662      0.356     -2.151      0.032      -1.465      -0.068\n",
      "hhcinco                 2.3131      0.451      5.128      0.000       1.429       3.197\n",
      "hhmother               -0.3442      0.230     -1.495      0.135      -0.796       0.107\n",
      "hhsuperbowl            -0.2299      0.254     -0.904      0.366      -0.728       0.269\n",
      "week_2                  0.1477      0.170      0.866      0.386      -0.187       0.482\n",
      "week_3                  0.4711      0.141      3.346      0.001       0.195       0.747\n",
      "week_4                  0.4026      0.149      2.709      0.007       0.111       0.694\n",
      "week_5                 -0.0156      0.144     -0.109      0.914      -0.297       0.266\n",
      "week_6                  0.6155      0.155      3.965      0.000       0.311       0.920\n",
      "week_7                  0.4329      0.148      2.921      0.004       0.142       0.723\n",
      "week_8                  0.3162      0.158      2.000      0.046       0.006       0.626\n",
      "week_9                  0.4563      0.149      3.054      0.002       0.163       0.749\n",
      "week_10                 0.4039      0.141      2.872      0.004       0.128       0.680\n",
      "week_11                 0.1217      0.143      0.851      0.395      -0.159       0.402\n",
      "week_12                 0.1956      0.149      1.309      0.190      -0.097       0.488\n",
      "week_13                 0.2086      0.152      1.372      0.170      -0.089       0.506\n",
      "week_14                 0.1869      0.155      1.205      0.228      -0.117       0.491\n",
      "week_15                 1.9623      0.167     11.783      0.000       1.636       2.289\n",
      "week_16                 0.4649      0.164      2.841      0.005       0.144       0.786\n",
      "week_17                 1.9001      0.165     11.520      0.000       1.577       2.224\n",
      "week_18                 1.8100      0.160     11.341      0.000       1.497       2.123\n",
      "week_19                 0.7846      0.153      5.121      0.000       0.484       1.085\n",
      "week_20                 1.0449      0.153      6.826      0.000       0.745       1.345\n",
      "week_21                 0.7748      0.149      5.183      0.000       0.482       1.068\n",
      "week_22                 0.7823      0.151      5.173      0.000       0.486       1.079\n",
      "week_23                 1.1705      0.148      7.899      0.000       0.880       1.461\n",
      "week_24                 1.3531      0.160      8.459      0.000       1.039       1.667\n",
      "week_25                 1.3306      0.165      8.078      0.000       1.008       1.653\n",
      "week_26                 1.0127      0.148      6.843      0.000       0.723       1.303\n",
      "week_27                 0.5426      0.143      3.806      0.000       0.263       0.822\n",
      "week_28                 0.6886      0.153      4.500      0.000       0.389       0.989\n",
      "week_29                 0.3762      0.139      2.704      0.007       0.103       0.649\n",
      "week_30                 0.1168      0.137      0.851      0.395      -0.152       0.386\n",
      "week_31                -0.1390      0.141     -0.984      0.325      -0.416       0.138\n",
      "week_32                -0.0513      0.145     -0.354      0.724      -0.336       0.233\n",
      "week_33                -0.0069      0.175     -0.039      0.969      -0.350       0.336\n",
      "week_34                 0.0945      0.141      0.669      0.504      -0.182       0.371\n",
      "week_35                 0.0451      0.137      0.329      0.742      -0.224       0.314\n",
      "week_36                 0.0769      0.141      0.544      0.586      -0.200       0.354\n",
      "week_37                 0.1994      0.142      1.399      0.162      -0.080       0.479\n",
      "week_38                 0.0660      0.143      0.463      0.643      -0.213       0.346\n",
      "week_39                 0.1244      0.139      0.895      0.371      -0.148       0.397\n",
      "week_40                 0.2328      0.147      1.589      0.112      -0.054       0.520\n",
      "week_41                 0.5776      0.153      3.767      0.000       0.277       0.878\n",
      "week_42                 0.5501      0.151      3.635      0.000       0.253       0.847\n",
      "week_43                 1.6514      0.157     10.500      0.000       1.343       1.960\n",
      "week_44                 0.7143      0.151      4.719      0.000       0.418       1.011\n",
      "week_45                 0.2861      0.187      1.527      0.127      -0.081       0.653\n",
      "week_46                 0.2526      0.168      1.503      0.133      -0.077       0.582\n",
      "week_47                 0.4085      0.142      2.886      0.004       0.131       0.686\n",
      "week_48                 0.4534      0.243      1.863      0.063      -0.024       0.931\n",
      "week_49                 0.5988      0.380      1.577      0.115      -0.146       1.343\n",
      "week_50                -0.0431      0.183     -0.236      0.814      -0.401       0.315\n",
      "week_51                 0.0678      0.144      0.472      0.637      -0.214       0.350\n",
      "week_52                 0.1818      0.141      1.286      0.198      -0.095       0.459\n",
      "week_53                -0.0115      0.296     -0.039      0.969      -0.592       0.569\n",
      "weeks_since_release          0          0        nan        nan           0           0\n",
      "hhnewyear31            -0.2625      0.189     -1.387      0.165      -0.634       0.108\n",
      "hhnewyear1             -0.2878      0.388     -0.741      0.459      -1.049       0.474\n",
      "hhnewyear23            -0.1437      0.153     -0.942      0.346      -0.443       0.155\n",
      "year_2002              -0.1698      0.566     -0.300      0.764      -1.280       0.941\n",
      "year_2003              -0.2107      0.566     -0.372      0.710      -1.321       0.900\n",
      "year_2004              -0.1475      0.566     -0.260      0.795      -1.258       0.963\n",
      "year_2005              -0.2957      0.567     -0.522      0.602      -1.407       0.815\n",
      "year_2006              -0.3823      0.566     -0.675      0.500      -1.492       0.728\n",
      "year_2007              -0.3463      0.566     -0.612      0.541      -1.456       0.763\n",
      "year_2008              -0.2859      0.566     -0.505      0.613      -1.395       0.823\n",
      "year_2009              -0.3089      0.566     -0.546      0.585      -1.419       0.801\n",
      "year_2010              -0.2603      0.567     -0.459      0.646      -1.371       0.851\n",
      "year_2011              -0.3109      0.566     -0.549      0.583      -1.420       0.798\n",
      "year_2012              -0.2333      0.567     -0.411      0.681      -1.345       0.878\n",
      "==============================================================================\n",
      "Omnibus:                     2289.332   Durbin-Watson:                   0.980\n",
      "Prob(Omnibus):                  0.000   Jarque-Bera (JB):            32991.078\n",
      "Skew:                           2.322   Prob(JB):                         0.00\n",
      "Kurtosis:                      16.021   Cond. No.                     1.17e+16\n",
      "==============================================================================\n",
      "\n",
      "Notes:\n",
      "[1] Standard Errors assume that the covariance matrix of the errors is correctly specified.\n",
      "[2] The smallest eigenvalue is 4.14e-29. This might indicate that there are\n",
      "strong multicollinearity problems or that the design matrix is singular.\n"
     ]
    }
   ],
   "source": [
    "# extract dummy from column names\n",
    "holiday_dummies = [col for col in films_day.columns if 'hh' in col]\n",
    "week_dummies = [col for col in films_day.columns if 'week' in col]\n",
    "year_dummies = [col for col in films_day.columns if 'year' in col]\n",
    "\n",
    "dummy_columns = holiday_dummies + week_dummies + year_dummies\n",
    "\n",
    "films_day_modified = films_day[films_day['weeks_since_release'] == 0]\n",
    "\n",
    "# create modified dataframe\n",
    "films_day_modified = films_day_modified[['tickets', 'weeks_since_release', 'friday', 'saturday', 'sunday'] + dummy_columns]\n",
    "\n",
    "# Create the model using the filtered dataframe\n",
    "X_opening = films_day_modified.drop('tickets', axis=1)\n",
    "y_opening = films_day_modified['tickets']\n",
    "X_opening = sm.add_constant(X_opening)\n",
    "model_opening = sm.OLS(y_opening, X_opening).fit()\n",
    "print(model_opening.summary())"
   ]
  },
  {
   "cell_type": "code",
   "execution_count": 62,
   "metadata": {},
   "outputs": [],
   "source": [
    "# create abnormal viewership variable\n",
    "films_day['abnormal_viewership_week_1'] = films_day['tickets'] - model_opening.predict(X_opening)"
   ]
  },
  {
   "cell_type": "markdown",
   "metadata": {},
   "source": [
    "# 14"
   ]
  },
  {
   "cell_type": "code",
   "execution_count": 63,
   "metadata": {},
   "outputs": [
    {
     "name": "stdout",
     "output_type": "stream",
     "text": [
      "Unique dates in films_day: 572\n",
      "Unique dates in weather_all: 1644\n",
      "Common dates: 24855\n"
     ]
    },
    {
     "data": {
      "text/html": [
       "<div>\n",
       "<style scoped>\n",
       "    .dataframe tbody tr th:only-of-type {\n",
       "        vertical-align: middle;\n",
       "    }\n",
       "\n",
       "    .dataframe tbody tr th {\n",
       "        vertical-align: top;\n",
       "    }\n",
       "\n",
       "    .dataframe thead th {\n",
       "        text-align: right;\n",
       "    }\n",
       "</style>\n",
       "<table border=\"1\" class=\"dataframe\">\n",
       "  <thead>\n",
       "    <tr style=\"text-align: right;\">\n",
       "      <th></th>\n",
       "      <th>title</th>\n",
       "      <th>production_budget</th>\n",
       "      <th>release_yr</th>\n",
       "      <th>p33_highbudget</th>\n",
       "      <th>p33_lowbudget</th>\n",
       "      <th>p33_hv1000</th>\n",
       "      <th>p33_lv1000</th>\n",
       "      <th>date</th>\n",
       "      <th>hhmlk</th>\n",
       "      <th>hhpres</th>\n",
       "      <th>...</th>\n",
       "      <th>www_cloud_1_6</th>\n",
       "      <th>www_cloud_2_6</th>\n",
       "      <th>www_cloud_3_6</th>\n",
       "      <th>www_cloud_4_6</th>\n",
       "      <th>www_cloud_5_6</th>\n",
       "      <th>www_cloud_6_6</th>\n",
       "      <th>www_cloud_7_6</th>\n",
       "      <th>www_cloud_8_6</th>\n",
       "      <th>www_mat_la_6</th>\n",
       "      <th>www_mat_la_cens_6</th>\n",
       "    </tr>\n",
       "  </thead>\n",
       "  <tbody>\n",
       "    <tr>\n",
       "      <th>0</th>\n",
       "      <td>(500) Days of Summer</td>\n",
       "      <td>7500000.0</td>\n",
       "      <td>2009</td>\n",
       "      <td>NaN</td>\n",
       "      <td>1.0</td>\n",
       "      <td>1.0</td>\n",
       "      <td>NaN</td>\n",
       "      <td>18117</td>\n",
       "      <td>0</td>\n",
       "      <td>0</td>\n",
       "      <td>...</td>\n",
       "      <td>0.122288</td>\n",
       "      <td>0.111988</td>\n",
       "      <td>0.147052</td>\n",
       "      <td>0.067938</td>\n",
       "      <td>0.130835</td>\n",
       "      <td>0.153627</td>\n",
       "      <td>0.092483</td>\n",
       "      <td>0.033750</td>\n",
       "      <td>158.278107</td>\n",
       "      <td>158.278107</td>\n",
       "    </tr>\n",
       "    <tr>\n",
       "      <th>1</th>\n",
       "      <td>12 Rounds</td>\n",
       "      <td>20000000.0</td>\n",
       "      <td>2009</td>\n",
       "      <td>NaN</td>\n",
       "      <td>1.0</td>\n",
       "      <td>NaN</td>\n",
       "      <td>1.0</td>\n",
       "      <td>17984</td>\n",
       "      <td>0</td>\n",
       "      <td>0</td>\n",
       "      <td>...</td>\n",
       "      <td>0.135937</td>\n",
       "      <td>0.122191</td>\n",
       "      <td>0.105826</td>\n",
       "      <td>0.094261</td>\n",
       "      <td>0.120009</td>\n",
       "      <td>0.061968</td>\n",
       "      <td>0.110844</td>\n",
       "      <td>0.083133</td>\n",
       "      <td>388.818673</td>\n",
       "      <td>60.971851</td>\n",
       "    </tr>\n",
       "    <tr>\n",
       "      <th>2</th>\n",
       "      <td>127 Hours</td>\n",
       "      <td>18000000.0</td>\n",
       "      <td>2010</td>\n",
       "      <td>NaN</td>\n",
       "      <td>1.0</td>\n",
       "      <td>1.0</td>\n",
       "      <td>NaN</td>\n",
       "      <td>18592</td>\n",
       "      <td>0</td>\n",
       "      <td>0</td>\n",
       "      <td>...</td>\n",
       "      <td>0.107072</td>\n",
       "      <td>0.086363</td>\n",
       "      <td>0.111919</td>\n",
       "      <td>0.140780</td>\n",
       "      <td>0.063891</td>\n",
       "      <td>0.035030</td>\n",
       "      <td>0.037233</td>\n",
       "      <td>0.050011</td>\n",
       "      <td>423.804141</td>\n",
       "      <td>195.154659</td>\n",
       "    </tr>\n",
       "    <tr>\n",
       "      <th>3</th>\n",
       "      <td>13 Going on 30</td>\n",
       "      <td>37000000.0</td>\n",
       "      <td>2004</td>\n",
       "      <td>NaN</td>\n",
       "      <td>NaN</td>\n",
       "      <td>NaN</td>\n",
       "      <td>NaN</td>\n",
       "      <td>16186</td>\n",
       "      <td>0</td>\n",
       "      <td>0</td>\n",
       "      <td>...</td>\n",
       "      <td>0.115680</td>\n",
       "      <td>0.092885</td>\n",
       "      <td>0.059651</td>\n",
       "      <td>0.076907</td>\n",
       "      <td>0.072433</td>\n",
       "      <td>0.098637</td>\n",
       "      <td>0.124840</td>\n",
       "      <td>0.163826</td>\n",
       "      <td>317.056881</td>\n",
       "      <td>178.419045</td>\n",
       "    </tr>\n",
       "    <tr>\n",
       "      <th>4</th>\n",
       "      <td>1408</td>\n",
       "      <td>25000000.0</td>\n",
       "      <td>2007</td>\n",
       "      <td>NaN</td>\n",
       "      <td>NaN</td>\n",
       "      <td>1.0</td>\n",
       "      <td>NaN</td>\n",
       "      <td>17341</td>\n",
       "      <td>0</td>\n",
       "      <td>0</td>\n",
       "      <td>...</td>\n",
       "      <td>0.119359</td>\n",
       "      <td>0.137916</td>\n",
       "      <td>0.113665</td>\n",
       "      <td>0.129903</td>\n",
       "      <td>0.125896</td>\n",
       "      <td>0.091523</td>\n",
       "      <td>0.067271</td>\n",
       "      <td>0.073809</td>\n",
       "      <td>111.566637</td>\n",
       "      <td>111.566637</td>\n",
       "    </tr>\n",
       "  </tbody>\n",
       "</table>\n",
       "<p>5 rows × 281 columns</p>\n",
       "</div>"
      ],
      "text/plain": [
       "                  title  production_budget  release_yr  p33_highbudget  \\\n",
       "0  (500) Days of Summer          7500000.0        2009             NaN   \n",
       "1             12 Rounds         20000000.0        2009             NaN   \n",
       "2             127 Hours         18000000.0        2010             NaN   \n",
       "3        13 Going on 30         37000000.0        2004             NaN   \n",
       "4                  1408         25000000.0        2007             NaN   \n",
       "\n",
       "   p33_lowbudget  p33_hv1000  p33_lv1000   date  hhmlk  hhpres  ...  \\\n",
       "0            1.0         1.0         NaN  18117      0       0  ...   \n",
       "1            1.0         NaN         1.0  17984      0       0  ...   \n",
       "2            1.0         1.0         NaN  18592      0       0  ...   \n",
       "3            NaN         NaN         NaN  16186      0       0  ...   \n",
       "4            NaN         1.0         NaN  17341      0       0  ...   \n",
       "\n",
       "   www_cloud_1_6  www_cloud_2_6  www_cloud_3_6  www_cloud_4_6  www_cloud_5_6  \\\n",
       "0       0.122288       0.111988       0.147052       0.067938       0.130835   \n",
       "1       0.135937       0.122191       0.105826       0.094261       0.120009   \n",
       "2       0.107072       0.086363       0.111919       0.140780       0.063891   \n",
       "3       0.115680       0.092885       0.059651       0.076907       0.072433   \n",
       "4       0.119359       0.137916       0.113665       0.129903       0.125896   \n",
       "\n",
       "   www_cloud_6_6  www_cloud_7_6  www_cloud_8_6  www_mat_la_6  \\\n",
       "0       0.153627       0.092483       0.033750    158.278107   \n",
       "1       0.061968       0.110844       0.083133    388.818673   \n",
       "2       0.035030       0.037233       0.050011    423.804141   \n",
       "3       0.098637       0.124840       0.163826    317.056881   \n",
       "4       0.091523       0.067271       0.073809    111.566637   \n",
       "\n",
       "   www_mat_la_cens_6  \n",
       "0         158.278107  \n",
       "1          60.971851  \n",
       "2         195.154659  \n",
       "3         178.419045  \n",
       "4         111.566637  \n",
       "\n",
       "[5 rows x 281 columns]"
      ]
     },
     "execution_count": 63,
     "metadata": {},
     "output_type": "execute_result"
    }
   ],
   "source": [
    "weather_all = pd.read_stata('weather_collapsed_all.dta')\n",
    "weather_all = weather_all.rename(columns=lambda x: 'www_' + x if x != 'sat_date' else x)\n",
    "\n",
    "weather_all['sat_date'] = pd.to_datetime(weather_all['sat_date'])\n",
    "films_day['sat_date'] = pd.to_datetime(films_day['sat_date'])\n",
    "# make films_day sat_date to two days before\n",
    "films_day['sat_date'] = films_day['sat_date'] + pd.Timedelta(days=1)\n",
    "films_day['sat_date'] = films_day['sat_date'].dt.normalize()\n",
    "weather_all['sat_date'] = weather_all['sat_date'].dt.normalize()\n",
    "\n",
    "# Debugging: Check for matching 'sat_date' values before merge\n",
    "print(\"Unique dates in films_day:\", films_day['sat_date'].nunique())\n",
    "print(\"Unique dates in weather_all:\", weather_all['sat_date'].nunique())\n",
    "print(\"Common dates:\", films_day['sat_date'].isin(weather_all['sat_date']).sum())\n",
    "\n",
    "film_weather = pd.merge(films_day, weather_all, on='sat_date', how='left')\n",
    "\n",
    "film_weather.head()"
   ]
  },
  {
   "cell_type": "markdown",
   "metadata": {},
   "source": [
    "# 15"
   ]
  },
  {
   "cell_type": "code",
   "execution_count": 64,
   "metadata": {},
   "outputs": [],
   "source": [
    "X = film_weather[dummy_columns]\n",
    "\n",
    "residuals = {}\n",
    "weather_variables = []\n",
    "for col in weather_all.columns:\n",
    "    if col.startswith('www_'):\n",
    "        weather_variables.append(col)\n",
    "        y = film_weather[col]\n",
    "        model = sm.OLS(y, X, missing='drop').fit()\n",
    " \n",
    "        residuals[col + '_res'] = model.resid\n",
    "\n",
    "residuals_df = pd.DataFrame(residuals)\n",
    "\n",
    "residuals_df.index = film_weather.index\n",
    "\n",
    "film_weather = pd.concat([film_weather, residuals_df], axis=1)"
   ]
  },
  {
   "cell_type": "markdown",
   "metadata": {},
   "source": [
    "# 16"
   ]
  },
  {
   "cell_type": "code",
   "execution_count": 65,
   "metadata": {},
   "outputs": [
    {
     "name": "stderr",
     "output_type": "stream",
     "text": [
      "/var/folders/mb/6qcb8p7j0yz1_bmv1h2vfy_80000gn/T/ipykernel_38335/1225801638.py:12: SettingWithCopyWarning: \n",
      "A value is trying to be set on a copy of a slice from a DataFrame.\n",
      "Try using .loc[row_indexer,col_indexer] = value instead\n",
      "\n",
      "See the caveats in the documentation: https://pandas.pydata.org/pandas-docs/stable/user_guide/indexing.html#returning-a-view-versus-a-copy\n",
      "  films_week_2['abnormal_viewership_week_2'] = y_week_2 - model_week_2.predict(X_week_2)\n"
     ]
    }
   ],
   "source": [
    "# Filter data for Week 2 viewership\n",
    "films_week_2 = film_weather[film_weather['weeks_since_release'] == 1]\n",
    "\n",
    "X_week_2 = films_week_2[dummy_columns] \n",
    "y_week_2 = films_week_2['tickets']  \n",
    "\n",
    "X_week_2 = sm.add_constant(X_week_2)\n",
    "\n",
    "model_week_2 = sm.OLS(y_week_2, X_week_2, missing='drop').fit()\n",
    "\n",
    "# Calculate abnormal viewership for Week 2 by subtracting predicted from actual viewership\n",
    "films_week_2['abnormal_viewership_week_2'] = y_week_2 - model_week_2.predict(X_week_2)\n"
   ]
  },
  {
   "cell_type": "code",
   "execution_count": 66,
   "metadata": {},
   "outputs": [],
   "source": [
    "# make dict of week_2 ticket sales\n",
    "week_2 = film_weather[film_weather['week_2'] == 1]\n",
    "week_2_dict = {}\n",
    "for index, row in week_2.iterrows():\n",
    "    week_2_dict[row['title']] = row['tickets']\n",
    "film_weather['week_2_ticket'] = film_weather['title'].map(week_2_dict)"
   ]
  },
  {
   "cell_type": "code",
   "execution_count": 67,
   "metadata": {},
   "outputs": [],
   "source": [
    "# Ensure 'film_weather_filtered' is treated as a separate DataFrame, not a view\n",
    "film_weather_filtered = film_weather.dropna(subset=['week_2_ticket']).copy()\n",
    "\n",
    "X_filtered = film_weather_filtered[dummy_columns]\n",
    "y_filtered = film_weather_filtered['week_2_ticket']\n",
    "X_filtered = sm.add_constant(X_filtered)  # Ensure this line is here if you haven't added a constant yet\n",
    "model_filtered = sm.OLS(y_filtered, X_filtered, missing='drop').fit()\n",
    "\n",
    "film_weather_filtered.loc[:, 'abnormal_viewership_week_2'] = model_filtered.resid\n",
    "\n",
    "film_weather = pd.merge(film_weather, film_weather_filtered[['title', 'abnormal_viewership_week_2']], on='title', how='left')"
   ]
  },
  {
   "cell_type": "markdown",
   "metadata": {},
   "source": [
    "# 17"
   ]
  },
  {
   "cell_type": "markdown",
   "metadata": {},
   "source": [
    "## A"
   ]
  },
  {
   "cell_type": "code",
   "execution_count": 68,
   "metadata": {},
   "outputs": [
    {
     "name": "stdout",
     "output_type": "stream",
     "text": [
      "                                     OLS Regression Results                                    \n",
      "===============================================================================================\n",
      "Dep. Variable:     abnormal_viewership_week_1   R-squared (uncentered):                   0.096\n",
      "Model:                                    OLS   Adj. R-squared (uncentered):              0.088\n",
      "Method:                         Least Squares   F-statistic:                              11.85\n",
      "Date:                        Wed, 28 Feb 2024   Prob (F-statistic):                   9.47e-183\n",
      "Time:                                21:11:59   Log-Likelihood:                         -11106.\n",
      "No. Observations:                       11844   AIC:                                  2.242e+04\n",
      "Df Residuals:                           11739   BIC:                                  2.320e+04\n",
      "Df Model:                                 105                                                  \n",
      "Covariance Type:                    nonrobust                                                  \n",
      "=========================================================================================\n",
      "                            coef    std err          t      P>|t|      [0.025      0.975]\n",
      "-----------------------------------------------------------------------------------------\n",
      "www_snow_0_res            0.3465      0.192      1.809      0.070      -0.029       0.722\n",
      "www_rain_0_res            0.8675      0.208      4.174      0.000       0.460       1.275\n",
      "www_mat5_10_0_res     -4.986e+06   2.94e+06     -1.693      0.090   -1.08e+07    7.85e+05\n",
      "www_mat5_15_0_res     -4.986e+06   2.94e+06     -1.693      0.090   -1.08e+07    7.85e+05\n",
      "www_mat5_20_0_res     -4.986e+06   2.94e+06     -1.693      0.090   -1.08e+07    7.85e+05\n",
      "www_mat5_25_0_res     -4.986e+06   2.94e+06     -1.694      0.090   -1.08e+07    7.85e+05\n",
      "www_mat5_30_0_res     -4.986e+06   2.94e+06     -1.694      0.090   -1.08e+07    7.85e+05\n",
      "www_mat5_35_0_res     -4.986e+06   2.94e+06     -1.694      0.090   -1.08e+07    7.85e+05\n",
      "www_mat5_40_0_res     -4.986e+06   2.94e+06     -1.694      0.090   -1.08e+07    7.85e+05\n",
      "www_mat5_45_0_res     -4.986e+06   2.94e+06     -1.694      0.090   -1.08e+07    7.85e+05\n",
      "www_mat5_50_0_res     -4.986e+06   2.94e+06     -1.694      0.090   -1.08e+07    7.85e+05\n",
      "www_mat5_55_0_res     -4.986e+06   2.94e+06     -1.694      0.090   -1.08e+07    7.85e+05\n",
      "www_mat5_60_0_res     -4.986e+06   2.94e+06     -1.694      0.090   -1.08e+07    7.85e+05\n",
      "www_mat5_65_0_res     -4.986e+06   2.94e+06     -1.694      0.090   -1.08e+07    7.85e+05\n",
      "www_mat5_70_0_res     -4.986e+06   2.94e+06     -1.694      0.090   -1.08e+07    7.85e+05\n",
      "www_mat5_75_0_res     -4.986e+06   2.94e+06     -1.694      0.090   -1.08e+07    7.85e+05\n",
      "www_mat5_80_0_res     -4.986e+06   2.94e+06     -1.694      0.090   -1.08e+07    7.85e+05\n",
      "www_mat5_85_0_res     -4.986e+06   2.94e+06     -1.694      0.090   -1.08e+07    7.85e+05\n",
      "www_mat5_90_0_res     -4.986e+06   2.94e+06     -1.694      0.090   -1.08e+07    7.85e+05\n",
      "www_mat5_95_0_res     -4.986e+06   2.94e+06     -1.694      0.090   -1.08e+07    7.85e+05\n",
      "www_prec_0_0_res       -1.49e+07   8.96e+06     -1.663      0.096   -3.25e+07    2.66e+06\n",
      "www_prec_1_0_res       -1.49e+07   8.96e+06     -1.663      0.096   -3.25e+07    2.66e+06\n",
      "www_prec_2_0_res       -1.49e+07   8.96e+06     -1.663      0.096   -3.25e+07    2.66e+06\n",
      "www_prec_3_0_res       -1.49e+07   8.96e+06     -1.663      0.096   -3.25e+07    2.66e+06\n",
      "www_prec_4_0_res       -1.49e+07   8.96e+06     -1.663      0.096   -3.25e+07    2.66e+06\n",
      "www_prec_5_0_res       -1.49e+07   8.96e+06     -1.663      0.096   -3.25e+07    2.66e+06\n",
      "www_cloud_0_0_res     -9.935e+06   5.97e+06     -1.663      0.096   -2.16e+07    1.77e+06\n",
      "www_cloud_1_0_res     -9.935e+06   5.97e+06     -1.663      0.096   -2.16e+07    1.77e+06\n",
      "www_cloud_2_0_res     -9.935e+06   5.97e+06     -1.663      0.096   -2.16e+07    1.77e+06\n",
      "www_cloud_3_0_res     -9.935e+06   5.97e+06     -1.663      0.096   -2.16e+07    1.77e+06\n",
      "www_cloud_4_0_res     -9.935e+06   5.97e+06     -1.663      0.096   -2.16e+07    1.77e+06\n",
      "www_cloud_5_0_res     -9.935e+06   5.97e+06     -1.663      0.096   -2.16e+07    1.77e+06\n",
      "www_cloud_6_0_res     -9.935e+06   5.97e+06     -1.663      0.096   -2.16e+07    1.77e+06\n",
      "www_cloud_7_0_res     -9.935e+06   5.97e+06     -1.663      0.096   -2.16e+07    1.77e+06\n",
      "www_cloud_8_0_res     -9.935e+06   5.97e+06     -1.663      0.096   -2.16e+07    1.77e+06\n",
      "www_mat_la_0_res         -0.0068      0.002     -2.883      0.004      -0.012      -0.002\n",
      "www_mat_la_cens_0_res     0.0042      0.002      2.680      0.007       0.001       0.007\n",
      "www_snow_5_res           -1.4188      0.274     -5.186      0.000      -1.955      -0.883\n",
      "www_rain_5_res           -0.2540      0.180     -1.409      0.159      -0.607       0.099\n",
      "www_mat5_10_5_res       8.64e+06    1.2e+07      0.720      0.471   -1.49e+07    3.21e+07\n",
      "www_mat5_15_5_res       8.64e+06    1.2e+07      0.720      0.471   -1.49e+07    3.21e+07\n",
      "www_mat5_20_5_res       8.64e+06    1.2e+07      0.720      0.471   -1.49e+07    3.21e+07\n",
      "www_mat5_25_5_res       8.64e+06    1.2e+07      0.720      0.471   -1.49e+07    3.21e+07\n",
      "www_mat5_30_5_res       8.64e+06    1.2e+07      0.720      0.471   -1.49e+07    3.21e+07\n",
      "www_mat5_35_5_res       8.64e+06    1.2e+07      0.720      0.471   -1.49e+07    3.21e+07\n",
      "www_mat5_40_5_res       8.64e+06    1.2e+07      0.720      0.471   -1.49e+07    3.21e+07\n",
      "www_mat5_45_5_res       8.64e+06    1.2e+07      0.720      0.471   -1.49e+07    3.21e+07\n",
      "www_mat5_50_5_res       8.64e+06    1.2e+07      0.720      0.471   -1.49e+07    3.21e+07\n",
      "www_mat5_55_5_res       8.64e+06    1.2e+07      0.720      0.471   -1.49e+07    3.21e+07\n",
      "www_mat5_60_5_res       8.64e+06    1.2e+07      0.720      0.471   -1.49e+07    3.21e+07\n",
      "www_mat5_65_5_res       8.64e+06    1.2e+07      0.720      0.471   -1.49e+07    3.21e+07\n",
      "www_mat5_70_5_res       8.64e+06    1.2e+07      0.720      0.471   -1.49e+07    3.21e+07\n",
      "www_mat5_75_5_res       8.64e+06    1.2e+07      0.720      0.471   -1.49e+07    3.21e+07\n",
      "www_mat5_80_5_res       8.64e+06    1.2e+07      0.720      0.471   -1.49e+07    3.21e+07\n",
      "www_mat5_85_5_res       8.64e+06    1.2e+07      0.720      0.471   -1.49e+07    3.21e+07\n",
      "www_mat5_90_5_res       8.64e+06    1.2e+07      0.720      0.471   -1.49e+07    3.21e+07\n",
      "www_mat5_95_5_res       8.64e+06    1.2e+07      0.720      0.471   -1.49e+07    3.21e+07\n",
      "www_prec_0_5_res       2.592e+07    3.6e+07      0.720      0.471   -4.46e+07    9.64e+07\n",
      "www_prec_1_5_res       2.592e+07    3.6e+07      0.720      0.471   -4.46e+07    9.64e+07\n",
      "www_prec_2_5_res       2.592e+07    3.6e+07      0.720      0.471   -4.46e+07    9.64e+07\n",
      "www_prec_3_5_res       2.592e+07    3.6e+07      0.720      0.471   -4.46e+07    9.64e+07\n",
      "www_prec_4_5_res       2.592e+07    3.6e+07      0.720      0.471   -4.46e+07    9.64e+07\n",
      "www_prec_5_5_res       2.592e+07    3.6e+07      0.720      0.471   -4.46e+07    9.64e+07\n",
      "www_cloud_0_5_res      1.728e+07    2.4e+07      0.720      0.471   -2.97e+07    6.43e+07\n",
      "www_cloud_1_5_res      1.728e+07    2.4e+07      0.720      0.471   -2.97e+07    6.43e+07\n",
      "www_cloud_2_5_res      1.728e+07    2.4e+07      0.720      0.471   -2.97e+07    6.43e+07\n",
      "www_cloud_3_5_res      1.728e+07    2.4e+07      0.720      0.471   -2.97e+07    6.43e+07\n",
      "www_cloud_4_5_res      1.728e+07    2.4e+07      0.720      0.471   -2.97e+07    6.43e+07\n",
      "www_cloud_5_5_res      1.728e+07    2.4e+07      0.720      0.471   -2.97e+07    6.43e+07\n",
      "www_cloud_6_5_res      1.728e+07    2.4e+07      0.720      0.471   -2.97e+07    6.43e+07\n",
      "www_cloud_7_5_res      1.728e+07    2.4e+07      0.720      0.471   -2.97e+07    6.43e+07\n",
      "www_cloud_8_5_res      1.728e+07    2.4e+07      0.720      0.471   -2.97e+07    6.43e+07\n",
      "www_mat_la_5_res          0.0025      0.002      1.233      0.218      -0.001       0.006\n",
      "www_mat_la_cens_5_res    -0.0008      0.002     -0.490      0.624      -0.004       0.002\n",
      "www_snow_6_res           -0.6368      0.294     -2.167      0.030      -1.213      -0.061\n",
      "www_rain_6_res           -0.7107      0.205     -3.473      0.001      -1.112      -0.310\n",
      "www_mat5_10_6_res     -3.669e+06   1.46e+07     -0.251      0.802   -3.24e+07     2.5e+07\n",
      "www_mat5_15_6_res     -3.669e+06   1.46e+07     -0.251      0.802   -3.24e+07     2.5e+07\n",
      "www_mat5_20_6_res     -3.669e+06   1.46e+07     -0.251      0.802   -3.24e+07     2.5e+07\n",
      "www_mat5_25_6_res     -3.669e+06   1.46e+07     -0.251      0.802   -3.24e+07     2.5e+07\n",
      "www_mat5_30_6_res     -3.669e+06   1.46e+07     -0.251      0.802   -3.24e+07     2.5e+07\n",
      "www_mat5_35_6_res     -3.669e+06   1.46e+07     -0.251      0.802   -3.24e+07     2.5e+07\n",
      "www_mat5_40_6_res     -3.669e+06   1.46e+07     -0.251      0.802   -3.24e+07     2.5e+07\n",
      "www_mat5_45_6_res     -3.669e+06   1.46e+07     -0.251      0.802   -3.24e+07     2.5e+07\n",
      "www_mat5_50_6_res     -3.669e+06   1.46e+07     -0.251      0.802   -3.24e+07     2.5e+07\n",
      "www_mat5_55_6_res     -3.669e+06   1.46e+07     -0.251      0.802   -3.24e+07     2.5e+07\n",
      "www_mat5_60_6_res     -3.669e+06   1.46e+07     -0.251      0.802   -3.24e+07     2.5e+07\n",
      "www_mat5_65_6_res     -3.669e+06   1.46e+07     -0.251      0.802   -3.24e+07     2.5e+07\n",
      "www_mat5_70_6_res     -3.669e+06   1.46e+07     -0.251      0.802   -3.24e+07     2.5e+07\n",
      "www_mat5_75_6_res     -3.669e+06   1.46e+07     -0.251      0.802   -3.24e+07     2.5e+07\n",
      "www_mat5_80_6_res     -3.669e+06   1.46e+07     -0.251      0.802   -3.24e+07     2.5e+07\n",
      "www_mat5_85_6_res     -3.669e+06   1.46e+07     -0.251      0.802   -3.24e+07     2.5e+07\n",
      "www_mat5_90_6_res     -3.669e+06   1.46e+07     -0.251      0.802   -3.24e+07     2.5e+07\n",
      "www_mat5_95_6_res     -3.669e+06   1.46e+07     -0.251      0.802   -3.24e+07     2.5e+07\n",
      "www_prec_0_6_res      -1.101e+07   4.39e+07     -0.251      0.802   -9.71e+07    7.51e+07\n",
      "www_prec_1_6_res      -1.101e+07   4.39e+07     -0.251      0.802   -9.71e+07    7.51e+07\n",
      "www_prec_2_6_res      -1.101e+07   4.39e+07     -0.251      0.802   -9.71e+07    7.51e+07\n",
      "www_prec_3_6_res      -1.101e+07   4.39e+07     -0.251      0.802   -9.71e+07    7.51e+07\n",
      "www_prec_4_6_res      -1.101e+07   4.39e+07     -0.251      0.802   -9.71e+07    7.51e+07\n",
      "www_prec_5_6_res      -1.101e+07   4.39e+07     -0.251      0.802   -9.71e+07    7.51e+07\n",
      "www_cloud_0_6_res     -7.339e+06   2.93e+07     -0.251      0.802   -6.47e+07    5.01e+07\n",
      "www_cloud_1_6_res     -7.339e+06   2.93e+07     -0.251      0.802   -6.47e+07    5.01e+07\n",
      "www_cloud_2_6_res     -7.339e+06   2.93e+07     -0.251      0.802   -6.47e+07    5.01e+07\n",
      "www_cloud_3_6_res     -7.339e+06   2.93e+07     -0.251      0.802   -6.47e+07    5.01e+07\n",
      "www_cloud_4_6_res     -7.339e+06   2.93e+07     -0.251      0.802   -6.47e+07    5.01e+07\n",
      "www_cloud_5_6_res     -7.339e+06   2.93e+07     -0.251      0.802   -6.47e+07    5.01e+07\n",
      "www_cloud_6_6_res     -7.339e+06   2.93e+07     -0.251      0.802   -6.47e+07    5.01e+07\n",
      "www_cloud_7_6_res     -7.339e+06   2.93e+07     -0.251      0.802   -6.47e+07    5.01e+07\n",
      "www_cloud_8_6_res     -7.339e+06   2.93e+07     -0.251      0.802   -6.47e+07    5.01e+07\n",
      "www_mat_la_6_res         -0.0005      0.002     -0.218      0.827      -0.005       0.004\n",
      "www_mat_la_cens_6_res     0.0053      0.002      3.263      0.001       0.002       0.008\n",
      "==============================================================================\n",
      "Omnibus:                     7778.857   Durbin-Watson:                   0.806\n",
      "Prob(Omnibus):                  0.000   Jarque-Bera (JB):           309459.450\n",
      "Skew:                           2.606   Prob(JB):                         0.00\n",
      "Kurtosis:                      27.493   Cond. No.                     1.28e+16\n",
      "==============================================================================\n",
      "\n",
      "Notes:\n",
      "[1] R² is computed without centering (uncentered) since the model does not contain a constant.\n",
      "[2] Standard Errors assume that the covariance matrix of the errors is correctly specified.\n",
      "[3] The smallest eigenvalue is 1.72e-23. This might indicate that there are\n",
      "strong multicollinearity problems or that the design matrix is singular.\n"
     ]
    }
   ],
   "source": [
    "film_weather_cleaned = film_weather.dropna(subset=['abnormal_viewership_week_1'])\n",
    "\n",
    "X = film_weather_cleaned[[col for col in film_weather.columns if col.startswith('www_') and col.endswith('_res')]]  # Predictor variables\n",
    "y = film_weather_cleaned['abnormal_viewership_week_1'] \n",
    "\n",
    "# Perform the OLS regression\n",
    "ols_model = sm.OLS(y, X, missing='drop').fit()\n",
    "\n",
    "# Display the regression results\n",
    "print(ols_model.summary())"
   ]
  },
  {
   "cell_type": "markdown",
   "metadata": {},
   "source": [
    "# B"
   ]
  },
  {
   "cell_type": "code",
   "execution_count": null,
   "metadata": {},
   "outputs": [],
   "source": [
    "film_weather_cleaned = film_weather.dropna(subset=['abnormal_viewership_week_1'])\n",
    "\n",
    "X = film_weather_cleaned[[col for col in film_weather.columns if col.startswith('www_') and col.endswith('_res')]]  # Predictor variables\n",
    "y = film_weather_cleaned['abnormal_viewership_week_1'] \n",
    "\n",
    "lr = LinearRegression()\n",
    "\n",
    "sfs = SFS(lr,\n",
    "          k_features='best',  \n",
    "          forward=True, \n",
    "          floating=False,\n",
    "          scoring='r2',\n",
    "          verbose=2,  # Enables progress bar\n",
    "          cv=0,  \n",
    "          n_jobs=-1)  # Use all available CPU cores for parallel processing\n",
    "\n",
    "# Fit the model\n",
    "sfs_forward = sfs.fit(X, y)\n",
    "\n",
    "# Get the selected feature names\n",
    "selected_features_forward = X.columns[list(sfs_forward.k_feature_idx_)]\n",
    "\n",
    "print(\"Selected features:\", selected_features_forward)\n"
   ]
  },
  {
   "cell_type": "markdown",
   "metadata": {},
   "source": [
    "## C"
   ]
  },
  {
   "cell_type": "code",
   "execution_count": null,
   "metadata": {},
   "outputs": [],
   "source": [
    "film_weather_cleaned = film_weather.dropna(subset=['abnormal_viewership_week_1'])\n",
    "\n",
    "X = film_weather_cleaned[[col for col in film_weather.columns if col.startswith('www_') and col.endswith('_res')]]  # Predictor variables\n",
    "y = film_weather_cleaned['abnormal_viewership_week_1']  \n",
    "\n",
    "lr = LinearRegression()\n",
    "\n",
    "sfs = SFS(lr,\n",
    "          k_features='best', \n",
    "          forward=False,  # Specifies forward selection\n",
    "          floating=False,\n",
    "          scoring='r2',\n",
    "          verbose=2, \n",
    "          cv=0,  # No cross-validation; adjust as needed for your analysis\n",
    "          n_jobs=-1)  # Use all available CPU cores for parallel processing\n",
    "\n",
    "sfs = sfs.fit(X, y)\n",
    "\n",
    "selected_features = X.columns[list(sfs.k_feature_idx_)]\n",
    "\n",
    "print(\"Selected features:\", selected_features)"
   ]
  },
  {
   "cell_type": "markdown",
   "metadata": {},
   "source": [
    "## D\n",
    "### (i)"
   ]
  },
  {
   "cell_type": "code",
   "execution_count": 69,
   "metadata": {},
   "outputs": [
    {
     "name": "stdout",
     "output_type": "stream",
     "text": [
      "Optimal λ chosen by 5-fold CV: 26.126752255633264\n"
     ]
    }
   ],
   "source": [
    "# Define alphas to explore for RidgeCV\n",
    "alphas = np.logspace(-6, 6, 200)\n",
    "\n",
    "# Initialize RidgeCV with 5-fold cross-validation\n",
    "ridge_cv = RidgeCV(alphas=alphas, cv=5, scoring='neg_mean_squared_error')\n",
    "\n",
    "# Fit the model\n",
    "ridge_cv.fit(X, y)\n",
    "\n",
    "# Optimal lambda selected by cross-validation\n",
    "optimal_lambda = ridge_cv.alpha_\n",
    "print(f\"Optimal λ chosen by 5-fold CV: {optimal_lambda}\")\n"
   ]
  },
  {
   "cell_type": "markdown",
   "metadata": {},
   "source": [
    "### (ii)\n"
   ]
  },
  {
   "cell_type": "code",
   "execution_count": 70,
   "metadata": {},
   "outputs": [
    {
     "name": "stdout",
     "output_type": "stream",
     "text": [
      "Highest λ within 1 std dev of minimum CV error: 1000000.0\n"
     ]
    }
   ],
   "source": [
    "mean_scores = []\n",
    "std_scores = []\n",
    "for alpha in alphas:\n",
    "    ridge = Ridge(alpha=alpha)\n",
    "    scores = cross_val_score(ridge, X, y, cv=5, scoring='neg_mean_squared_error')\n",
    "    mean_scores.append(np.mean(scores))\n",
    "    std_scores.append(np.std(scores))\n",
    "\n",
    "mean_scores = np.array(mean_scores) * -1\n",
    "std_scores = np.array(std_scores)\n",
    "\n",
    "min_index = np.argmin(mean_scores)\n",
    "target_score = mean_scores[min_index] + std_scores[min_index]\n",
    "\n",
    "lambda_within_1_std_ridge = max([alpha for i, alpha in enumerate(alphas) if mean_scores[i] <= target_score])\n",
    "print(f\"Highest λ within 1 std dev of minimum CV error: {lambda_within_1_std_ridge}\")"
   ]
  },
  {
   "cell_type": "markdown",
   "metadata": {},
   "source": [
    "## E\n",
    "### (i)"
   ]
  },
  {
   "cell_type": "code",
   "execution_count": 71,
   "metadata": {},
   "outputs": [
    {
     "name": "stdout",
     "output_type": "stream",
     "text": [
      "Optimal λ chosen by 5-fold CV: 3.414017951854326\n",
      "Selected features: Index(['www_mat_la_0_res'], dtype='object')\n"
     ]
    }
   ],
   "source": [
    "# LASSO Chosen with 5-fold cross validation\n",
    "lasso_cv = LassoCV(cv=5)\n",
    "\n",
    "# Fit the model\n",
    "lasso_cv.fit(X, y)\n",
    "\n",
    "# Print model details\n",
    "print(f\"Optimal λ chosen by 5-fold CV: {lasso_cv.alpha_}\")\n",
    "\n",
    "# Extract the coefficients\n",
    "lasso_coefs = lasso_cv.coef_\n",
    "\n",
    "# Extract the selected features\n",
    "selected_features = X.columns[lasso_coefs != 0]\n",
    "print(\"Selected features:\", selected_features)"
   ]
  },
  {
   "cell_type": "markdown",
   "metadata": {},
   "source": [
    "### (ii)"
   ]
  },
  {
   "cell_type": "code",
   "execution_count": 72,
   "metadata": {},
   "outputs": [
    {
     "name": "stdout",
     "output_type": "stream",
     "text": [
      "Highest λ within 1 std dev of minimum CV error: 9.067931372680944\n"
     ]
    }
   ],
   "source": [
    "final_error_index = np.argmin(np.mean(lasso_cv.mse_path_, axis=1))\n",
    "final_error = np.mean(lasso_cv.mse_path_[final_error_index])\n",
    "\n",
    "# Get the standard deviation of the error for the optimal alpha\n",
    "std_error = np.std(lasso_cv.mse_path_[final_error_index], axis=0)\n",
    "\n",
    "# Calculate the upper bound for the error\n",
    "upper_bound = final_error + std_error\n",
    "\n",
    "# Find the highest lambda (alpha) within 1 standard deviation of the minimum CV error\n",
    "acceptable_errors_indices = np.where(np.mean(lasso_cv.mse_path_, axis=1) <= upper_bound)[0]\n",
    "acceptable_alphas = lasso_cv.alphas_[acceptable_errors_indices]\n",
    "lambda_within_1_std = max(acceptable_alphas)\n",
    "\n",
    "print(f\"Highest λ within 1 std dev of minimum CV error: {lambda_within_1_std}\")\n"
   ]
  },
  {
   "cell_type": "markdown",
   "metadata": {},
   "source": [
    "### (iii), (iv), (v)"
   ]
  },
  {
   "cell_type": "code",
   "execution_count": 73,
   "metadata": {},
   "outputs": [
    {
     "name": "stdout",
     "output_type": "stream",
     "text": [
      "Smallest λ for 1 included regressor(s): 9.067931372680944\n",
      "Smallest λ for 2 included regressor(s): 2.0948097582346112\n",
      "Smallest λ for 3 included regressor(s): 0.5189003722423665\n"
     ]
    }
   ],
   "source": [
    "\n",
    "alphas_to_test = lasso_cv.alphas_\n",
    "\n",
    "smallest_alphas = {}\n",
    "\n",
    "for alpha in alphas_to_test:\n",
    "    lasso = Lasso(alpha=alpha)\n",
    "    lasso.fit(X, y)\n",
    "    non_zero_coefs = np.sum(lasso.coef_ != 0)\n",
    "    \n",
    "    if non_zero_coefs in [1, 2, 3] and non_zero_coefs not in smallest_alphas:\n",
    "        smallest_alphas[non_zero_coefs] = alpha\n",
    "\n",
    "    if len(smallest_alphas) == 3:\n",
    "        break\n",
    "\n",
    "# Print the results\n",
    "for num_coefs, alpha in smallest_alphas.items():\n",
    "    print(f\"Smallest λ for {num_coefs} included regressor(s): {alpha}\")"
   ]
  },
  {
   "cell_type": "markdown",
   "metadata": {},
   "source": [
    "## F"
   ]
  },
  {
   "cell_type": "code",
   "execution_count": 74,
   "metadata": {},
   "outputs": [
    {
     "name": "stdout",
     "output_type": "stream",
     "text": [
      "        OLS  Ridge_optimal  Ridge_within_1_std     LASSO  LASSO_within_1_std  \\\n",
      "0 -0.757389      -0.830732           -0.846918 -0.846522           -0.851116   \n",
      "1 -0.818833      -0.637278           -0.689389 -0.762659           -0.777228   \n",
      "2 -1.700033      -1.395071           -1.232040 -1.259594           -1.261673   \n",
      "3 -0.012310      -0.088690            0.058412  0.117871            0.121967   \n",
      "4 -0.117499      -0.184346           -0.249965 -0.252416           -0.258046   \n",
      "\n",
      "   LASSO_1_included  LASSO_2_included  LASSO_3_included  \n",
      "0         -0.851116         -0.845452         -0.844180  \n",
      "1         -0.777228         -0.758694         -0.747010  \n",
      "2         -1.261673         -1.258223         -1.245989  \n",
      "3          0.121967          0.115367          0.093727  \n",
      "4         -0.258046         -0.251031         -0.248519  \n",
      "(11844, 8)\n"
     ]
    },
    {
     "data": {
      "image/png": "[encoded data removed]",
      "text/plain": [
       "<Figure size 1000x800 with 2 Axes>"
      ]
     },
     "metadata": {},
     "output_type": "display_data"
    }
   ],
   "source": [
    "y_week_1 = y.copy()\n",
    "\n",
    "# we will construct the table of results for each model\n",
    "abnormal_viewership_df = pd.DataFrame()\n",
    "# OLS\n",
    "abnormal_viewership_df['OLS'] = y - ols_model.predict(X)\n",
    "\n",
    "# Ridge - Optimal\n",
    "ridge = Ridge(alpha=optimal_lambda)\n",
    "ridge.fit(X, y)\n",
    "abnormal_viewership_df['Ridge_optimal'] = y - ridge.predict(X)\n",
    "\n",
    "# Ridge - Within 1 std\n",
    "ridge_within_1_std = Ridge(alpha=lambda_within_1_std_ridge)\n",
    "ridge_within_1_std.fit(X, y)\n",
    "abnormal_viewership_df['Ridge_within_1_std'] = y - ridge_within_1_std.predict(X)\n",
    "\n",
    "# LASSO\n",
    "abnormal_viewership_df['LASSO'] = y - lasso_cv.predict(X)\n",
    "\n",
    "# LASSO - Within 1 std\n",
    "lasso_within_1_std = Lasso(alpha=lambda_within_1_std)\n",
    "lasso_within_1_std.fit(X, y)\n",
    "abnormal_viewership_df['LASSO_within_1_std'] = y - lasso_within_1_std.predict(X)\n",
    "\n",
    "# LASSO 3 lambda values \n",
    "for coef, alpha in smallest_alphas.items():\n",
    "    lasso = Lasso(alpha=alpha)\n",
    "    lasso.fit(X, y)\n",
    "    abnormal_viewership_df[f'LASSO_{coef}_included'] = y - lasso.predict(X)\n",
    "\n",
    "# Display the first few rows of the DataFrame\n",
    "print(abnormal_viewership_df.head())\n",
    "print(abnormal_viewership_df.shape)\n",
    "\n",
    "\n",
    "\n",
    "# Plot correlation matrix heatmap with seaborn\n",
    "plt.figure(figsize=(10, 8))\n",
    "sns.heatmap(abnormal_viewership_df.corr(), annot=True, cmap='coolwarm', center=0)\n",
    "plt.title('Correlation Matrix Heatmap')\n",
    "plt.show()"
   ]
  },
  {
   "cell_type": "code",
   "execution_count": 75,
   "metadata": {},
   "outputs": [
    {
     "data": {
      "text/html": [
       "<div>\n",
       "<style scoped>\n",
       "    .dataframe tbody tr th:only-of-type {\n",
       "        vertical-align: middle;\n",
       "    }\n",
       "\n",
       "    .dataframe tbody tr th {\n",
       "        vertical-align: top;\n",
       "    }\n",
       "\n",
       "    .dataframe thead th {\n",
       "        text-align: right;\n",
       "    }\n",
       "</style>\n",
       "<table border=\"1\" class=\"dataframe\">\n",
       "  <thead>\n",
       "    <tr style=\"text-align: right;\">\n",
       "      <th></th>\n",
       "      <th>OLS</th>\n",
       "      <th>Ridge_optimal</th>\n",
       "      <th>Ridge_within_1_std</th>\n",
       "      <th>LASSO</th>\n",
       "      <th>LASSO_within_1_std</th>\n",
       "      <th>LASSO_1_included</th>\n",
       "      <th>LASSO_2_included</th>\n",
       "      <th>LASSO_3_included</th>\n",
       "    </tr>\n",
       "  </thead>\n",
       "  <tbody>\n",
       "    <tr>\n",
       "      <th>0</th>\n",
       "      <td>111</td>\n",
       "      <td>111</td>\n",
       "      <td>111</td>\n",
       "      <td>1</td>\n",
       "      <td>1</td>\n",
       "      <td>1</td>\n",
       "      <td>2</td>\n",
       "      <td>3</td>\n",
       "    </tr>\n",
       "  </tbody>\n",
       "</table>\n",
       "</div>"
      ],
      "text/plain": [
       "   OLS  Ridge_optimal  Ridge_within_1_std  LASSO  LASSO_within_1_std  \\\n",
       "0  111            111                 111      1                   1   \n",
       "\n",
       "   LASSO_1_included  LASSO_2_included  LASSO_3_included  \n",
       "0                 1                 2                 3  "
      ]
     },
     "execution_count": 75,
     "metadata": {},
     "output_type": "execute_result"
    }
   ],
   "source": [
    "# How many regressors included in each model?\n",
    "number_of_regressors = {}\n",
    "number_of_regressors['OLS'] = len(ols_model.params)\n",
    "number_of_regressors['Ridge_optimal'] = np.sum(ridge.coef_ != 0)\n",
    "number_of_regressors['Ridge_within_1_std'] = np.sum(ridge_within_1_std.coef_ != 0)\n",
    "number_of_regressors['LASSO'] = np.sum(lasso_coefs != 0)\n",
    "number_of_regressors['LASSO_within_1_std'] = np.sum(lasso_within_1_std.coef_ != 0)\n",
    "for coef, alpha in smallest_alphas.items():\n",
    "    lasso = Lasso(alpha=alpha)\n",
    "    lasso.fit(X, y)\n",
    "    number_of_regressors[f'LASSO_{coef}_included'] = np.sum(lasso.coef_ != 0)\n",
    "\n",
    "# Convert the dictionary to a DataFrame\n",
    "number_of_regressors_df = pd.DataFrame(number_of_regressors, index=[0])\n",
    "\n",
    "# Display the DataFrame\n",
    "number_of_regressors_df"
   ]
  },
  {
   "cell_type": "markdown",
   "metadata": {},
   "source": [
    "# 18"
   ]
  },
  {
   "cell_type": "code",
   "execution_count": 77,
   "metadata": {},
   "outputs": [
    {
     "data": {
      "text/html": [
       "<div>\n",
       "<style scoped>\n",
       "    .dataframe tbody tr th:only-of-type {\n",
       "        vertical-align: middle;\n",
       "    }\n",
       "\n",
       "    .dataframe tbody tr th {\n",
       "        vertical-align: top;\n",
       "    }\n",
       "\n",
       "    .dataframe thead th {\n",
       "        text-align: right;\n",
       "    }\n",
       "</style>\n",
       "<table border=\"1\" class=\"dataframe\">\n",
       "  <thead>\n",
       "    <tr style=\"text-align: right;\">\n",
       "      <th></th>\n",
       "      <th>OLS</th>\n",
       "      <th>Ridge_optimal</th>\n",
       "      <th>Ridge_within_1_std</th>\n",
       "      <th>LASSO</th>\n",
       "      <th>LASSO_within_1_std</th>\n",
       "      <th>LASSO_1_included</th>\n",
       "      <th>LASSO_2_included</th>\n",
       "      <th>LASSO_3_included</th>\n",
       "    </tr>\n",
       "  </thead>\n",
       "  <tbody>\n",
       "    <tr>\n",
       "      <th>0</th>\n",
       "      <td>-0.000883</td>\n",
       "      <td>-0.031505</td>\n",
       "      <td>-0.000038</td>\n",
       "      <td>-0.0</td>\n",
       "      <td>-0.0</td>\n",
       "      <td>-0.0</td>\n",
       "      <td>-0.0</td>\n",
       "      <td>-0.0</td>\n",
       "    </tr>\n",
       "  </tbody>\n",
       "</table>\n",
       "</div>"
      ],
      "text/plain": [
       "        OLS  Ridge_optimal  Ridge_within_1_std  LASSO  LASSO_within_1_std  \\\n",
       "0 -0.000883      -0.031505           -0.000038   -0.0                -0.0   \n",
       "\n",
       "   LASSO_1_included  LASSO_2_included  LASSO_3_included  \n",
       "0              -0.0              -0.0              -0.0  "
      ]
     },
     "execution_count": 77,
     "metadata": {},
     "output_type": "execute_result"
    }
   ],
   "source": [
    "# ow regress abnormal viewership in week 2 on the fitted values of the first stage regression for abnormal viewership in week 1 on weather \n",
    "# for each of the methods considered above and report the coefficient on abnormal viewership in week 1. Also report the \n",
    "# coefficient of regressing abnormal viewership in week 2 on abnormal viewership in week 1 (no instruments).\n",
    "\n",
    "film_weather['abnormal_viewership_week_2'] = films_week_2['abnormal_viewership_week_2']\n",
    "film_weather_cleaned = film_weather.dropna(subset=['abnormal_viewership_week_2'])\n",
    "\n",
    "X = film_weather_cleaned[[col for col in film_weather.columns if col.startswith('www_') and col.endswith('_res')]] # Predictor variables\n",
    "X = sm.add_constant(X)\n",
    "y = film_weather_cleaned['abnormal_viewership_week_2']\n",
    "# Resetting index for the dependent variable\n",
    "y = y.reset_index(drop=True)\n",
    "\n",
    "y_week_2 = y.copy()\n",
    "\n",
    "# Resetting index for the independent variables (residuals) before using them in regressions\n",
    "abnormal_viewership_df['OLS'] = abnormal_viewership_df['OLS'].reset_index(drop=True)\n",
    "abnormal_viewership_df['Ridge_optimal'] = abnormal_viewership_df['Ridge_optimal'].reset_index(drop=True)\n",
    "abnormal_viewership_df['Ridge_within_1_std'] = abnormal_viewership_df['Ridge_within_1_std'].reset_index(drop=True)\n",
    "abnormal_viewership_df['LASSO'] = abnormal_viewership_df['LASSO'].reset_index(drop=True)\n",
    "abnormal_viewership_df['LASSO_within_1_std'] = abnormal_viewership_df['LASSO_within_1_std'].reset_index(drop=True)\n",
    "\n",
    "# For LASSO models with varying lambda values, reset each one if they're in separate columns\n",
    "for coef in smallest_alphas.keys():\n",
    "    abnormal_viewership_df[f'LASSO_{coef}_included'] = abnormal_viewership_df[f'LASSO_{coef}_included'].reset_index(drop=True)\n",
    "# Remove rows with NaNs in your DataFrame\n",
    "abnormal_viewership_df = abnormal_viewership_df.replace([np.inf, -np.inf], np.nan).dropna()\n",
    "y = y[abnormal_viewership_df.index]  # Ensure y is aligned with the cleaned DataFrame\n",
    "\n",
    "# You might need to reset indices again if they become misaligned after dropping\n",
    "abnormal_viewership_df = abnormal_viewership_df.reset_index(drop=True)\n",
    "y = y.reset_index(drop=True)\n",
    "\n",
    "# Now proceed with the regression\n",
    "ols_x = sm.add_constant(abnormal_viewership_df['OLS'])  # Ensure you're adding a constant term for OLS\n",
    "ols_model = sm.OLS(y, ols_x).fit()\n",
    "\n",
    "# Ridge - Optimal\n",
    "ridge = Ridge(alpha=optimal_lambda)\n",
    "ridge.fit(abnormal_viewership_df['Ridge_optimal'].values.reshape(-1, 1), y)\n",
    "ridge_coef = ridge.coef_\n",
    "\n",
    "# Ridge - Within 1 std\n",
    "ridge_within_1_std = Ridge(alpha=lambda_within_1_std_ridge)\n",
    "ridge_within_1_std.fit(abnormal_viewership_df['Ridge_within_1_std'].values.reshape(-1, 1), y)\n",
    "ridge_within_1_std_coef = ridge_within_1_std.coef_\n",
    "\n",
    "# LASSO\n",
    "lasso = Lasso(alpha=lasso_cv.alpha_)\n",
    "lasso.fit(abnormal_viewership_df['LASSO'].values.reshape(-1, 1), y)\n",
    "lasso_coef = lasso.coef_\n",
    "\n",
    "# LASSO - Within 1 std\n",
    "lasso_within_1_std = Lasso(alpha=lambda_within_1_std)\n",
    "lasso_within_1_std.fit(abnormal_viewership_df['LASSO_within_1_std'].values.reshape(-1, 1), y)\n",
    "lasso_within_1_std_coef = lasso_within_1_std.coef_\n",
    "\n",
    "# LASSO 3 lambda values\n",
    "lasso_3_coef = {}\n",
    "for coef, alpha in smallest_alphas.items():\n",
    "    lasso = Lasso(alpha=alpha)\n",
    "    lasso.fit(abnormal_viewership_df[f'LASSO_{coef}_included'].values.reshape(-1, 1), y)\n",
    "    lasso_3_coef[coef] = lasso.coef_\n",
    "\n",
    "# Make DF of the coefficients on abnormal viewership in week 1\n",
    "coefficients = {'OLS': ols_model.params[0],\n",
    "               'Ridge_optimal': ridge_coef[0],\n",
    "               'Ridge_within_1_std': ridge_within_1_std_coef[0],\n",
    "               'LASSO': lasso_coef[0],\n",
    "               'LASSO_within_1_std': lasso_within_1_std_coef[0]}\n",
    "for coef, alpha in smallest_alphas.items():\n",
    "    coefficients[f'LASSO_{coef}_included'] = lasso_3_coef[coef][0]\n",
    "\n",
    "coefficients_df = pd.DataFrame(coefficients, index=[0])\n",
    "\n",
    "coefficients_df\n"
   ]
  },
  {
   "cell_type": "code",
   "execution_count": 80,
   "metadata": {},
   "outputs": [
    {
     "name": "stdout",
     "output_type": "stream",
     "text": [
      "Coefficient from Direct Regression (No Instruments): -0.005219894110524818\n"
     ]
    }
   ],
   "source": [
    "# we need to re-separate our data to ensure that the indices are aligned\n",
    "films_week_1 = film_weather[film_weather['weeks_since_release'] == 0]\n",
    "films_week_2 = film_weather[film_weather['weeks_since_release'] == 1]\n",
    "\n",
    "# find y_week_2\n",
    "y_week_2 = films_week_2['tickets']\n",
    "\n",
    "# find y_week_1\n",
    "y_week_1 = films_week_1['tickets']\n",
    "\n",
    "# align indices\n",
    "y_week_1 = y_week_1.reset_index(drop=True)\n",
    "y_week_2 = y_week_2.reset_index(drop=True)\n",
    "\n",
    "# Direct regression of week 2 viewership on week 1 viewership\n",
    "direct_model = sm.OLS(y_week_2, sm.add_constant(y_week_1)).fit()\n",
    "\n",
    "# Report the coefficient for abnormal viewership in week 1\n",
    "direct_coefficient = direct_model.params[1]  # This is the coefficient for week 1 viewership\n",
    "\n",
    "print(\"Coefficient from Direct Regression (No Instruments):\", direct_coefficient)\n"
   ]
  },
  {
   "cell_type": "markdown",
   "metadata": {},
   "source": [
    "# 20\n",
    "Kuehn and Lampe were suspicious of movie ratings on IMDb used by Gilchrist and Sands, particularly the categorization into high- and low-quality movies which excluded highly rated films like \"Lord of the Rings: The Return of the King\" and \"Toy Story 3\". Kuehn and Lampe introduced three alternative quality measures to end up with a more consistent definition of film quality and reanalyzed the data. They found evidence of a stronger influence of social learning on movie sales momentum, some inconsistencies with Gilchrist and Sands’ findings, and network externalities, concluding that social learning plays a larger role than originally suggested by Gilchrist and Sands. However, network externalities could not be ruled out. Their results showed significant momentum for high-quality movies, which overall suggested a larger role for social learning in consumer behavior, contradicting Gilchrist and Sands' assertion that movie quality does not significantly affect sales momentum.\n"
   ]
  },
  {
   "cell_type": "markdown",
   "metadata": {},
   "source": [
    "# 21 **Bonus**"
   ]
  },
  {
   "cell_type": "markdown",
   "metadata": {},
   "source": [
    "# 22\n",
    "The definition of Economics that was presented to us in class is that it is the science of studying human behavior as the relationship between ends and scarce means with alternative uses. In the context of the Gilchrist and Sands paper, it can be considered an economics paper because it explores the concept of social spillovers in movie consumption, using weather as an exogenous variable to measure its impact on moviegoer behavior. They investigate how an individual's demand for movies may be influenced by others' consumption, attributing this to preferences for shared experiences and network externalities. Through their analytical approach, they provide evidence of significant momentum in movie viewership attributed to social spillovers, challenging traditional views on consumer behavior in economics. This study aligns with the definition of economics by examining human behavior concerning scarce resources (movie tickets) and choices under influence (social spillovers), revealing how external factors (weather) and social dynamics can affect demand and consumption patterns. It goes into how individuals' decisions to consume movies are not made in isolation but are influenced by social interactions and the preferences of others, which constitutes a scarce resource—the social experience of watching a movie. This interaction between ends (the desire for entertainment and social engagement) and scarce means (time, money, and the unique value of shared experiences) within the context of alternative uses (different movies or leisure activities) exemplifies the economic analysis of decision-making under scarcity and the influence of social dynamics on consumer preferences and demand.\n"
   ]
  }
 ],
 "metadata": {
  "kernelspec": {
   "display_name": "data",
   "language": "python",
   "name": "python3"
  },
  "language_info": {
   "codemirror_mode": {
    "name": "ipython",
    "version": 3
   },
   "file_extension": ".py",
   "mimetype": "text/x-python",
   "name": "python",
   "nbconvert_exporter": "python",
   "pygments_lexer": "ipython3",
   "version": "3.10.9"
  }
 },
 "nbformat": 4,
 "nbformat_minor": 2
}
