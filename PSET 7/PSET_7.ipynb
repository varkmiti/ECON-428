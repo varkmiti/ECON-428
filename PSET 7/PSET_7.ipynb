{
 "cells": [
  {
   "cell_type": "code",
   "execution_count": 13,
   "metadata": {},
   "outputs": [],
   "source": [
    "import numpy as np\n",
    "import pandas as pd\n",
    "import statsmodels.api as sm"
   ]
  },
  {
   "cell_type": "markdown",
   "metadata": {},
   "source": [
    "# Mark Viti \\& Marcus Lisman"
   ]
  },
  {
   "cell_type": "markdown",
   "metadata": {},
   "source": [
    "## Problem 1"
   ]
  },
  {
   "cell_type": "markdown",
   "metadata": {},
   "source": [
    "### 1\n",
    "**Problem:**\n",
    "For $Y = X\\beta + U$ where we observe $Y, \\tilde{X}, \\u{X}$ such that $\\tilde{X} = X + V^1$ and $\\u{X} = X + V^2$. Moreover, we have that for $j = {1, 2}$, $\\mathbb{E}\\left[V^j\\right] = 0, \\mathbb{E}[XV^j] = 0, \\mathbb{E}[V^1V^2] = 0$, $\\mathbb{E}\\left[UV^j\\right] = 0$, $\\mathbb{E}\\left[V^1V^2\\right]$. Verify the relevance and exogeneity of $\\u{X}$ as an instrument for $\\tilde{X}$.\n",
    "\n",
    "**Solution:**\n",
    "Recall the definitions of relevance and exogeneity:\n",
    "- Relevance: $\\mathbb{E}\\left[\\u{X}\\tilde{X}\\right] \\neq 0$\n",
    "- Exogeneity: $\\mathbb{E}\\left[\\u{X}U\\right] = 0$\n",
    "\n",
    "First, we verify relevance:\n",
    "$\\begin{align}\n",
    "\\mathbb{E}\\left[\\u{X}\\tilde{X}\\right] &= \\mathbb{E}\\left[\\left(X + V^2\\right)\\left(X + V^1\\right)\\right] \\\\\n",
    "&= \\mathbb{E}\\left[X^2 + XV^1 + XV^2 + V^1V^2\\right] \\\\\n",
    "&= \\mathbb{E}\\left[X^2\\right] + \\mathbb{E}\\left[XV^1\\right] + \\mathbb{E}\\left[XV^2\\right] + \\mathbb{E}\\left[V^1V^2\\right] \\\\\n",
    "&= \\mathbb{E}\\left[X^2\\right] + 0 + 0 + 0 \\\\\n",
    "&= \\mathbb{E}\\left[X^2\\right] \\neq 0\n",
    "\\end{align}$\n",
    "Now, someone asked on Ed if we can assume that $var{X} > 0$, which we can. This it is clear that $\\mathbb{E}\\left[\\u{X}\\tilde{X}\\right] \\neq 0$.\n",
    "\n",
    "Next, we verify exogeneity:\n",
    "$\\begin{align}\n",
    "\\mathbb{E}\\left[\\u{X}U\\right] &= \\mathbb{E}\\left[\\left(X + V^2\\right)U\\right] \\\\\n",
    "&= \\mathbb{E}\\left[XU + V^2U\\right] \\\\\n",
    "&= \\mathbb{E}\\left[XU\\right] + \\mathbb{E}\\left[V^2U\\right] \\\\\n",
    "&= \\mathbb{E}\\left[XU\\right] + 0 \\\\\n",
    "&= 0\n",
    "\\end{align}$\n",
    "Thus, $\\u{X}$ is both relevant and exogenous as an instrument for $\\tilde{X}$.\n",
    "QED"
   ]
  },
  {
   "cell_type": "markdown",
   "metadata": {},
   "source": [
    "### 2\n",
    "**Problem:**\n",
    "We have the following supply and demand equations:\n",
    "\n",
    "$Q^s(P) = \\alpha^s + P\\beta^s + Z_\\gamma + U^s$\n",
    "\n",
    "$Q^d(P) = \\alpha^d + P\\beta^d + U^d$\n",
    "- - - \n",
    "**(A)**: What is the expected sign of $\\beta^s$, $\\beta^d$, and $\\beta^d - \\beta^s$?\n",
    "\n",
    "The expected sign of $\\beta^s$ is positive, as the quantity supplied should increase with price. The expected sign of $\\beta^d$ is negative, as the quantity demanded should decrease with price. Thus, the expected sign of $\\beta^d - \\beta^s$ is negative.\n",
    "\n",
    "- - - \n",
    "\n",
    "**(B)**: Derive the equilibrium price. \n",
    "\n",
    "At equilibrium, $Q^s(P) = Q^d(P)$. Thus, we have:\n",
    "$\\begin{align}\n",
    "\\alpha^s + P\\beta^s + Z_\\gamma + U^s &= \\alpha^d + P\\beta^d + U^d \\\\\n",
    "P\\beta^s - P\\beta^d &= \\alpha^d - \\alpha^s + U^s - U^d - Z_\\gamma \\\\\n",
    "P(\\beta^s - \\beta^d) &= \\alpha^d - \\alpha^s + U^s - U^d - Z_\\gamma \\\\\n",
    "P &= \\frac{\\alpha^d - \\alpha^s + U^s - U^d - Z_\\gamma}{\\beta^s - \\beta^d}\n",
    "\\end{align}$\n",
    "We are going to call this price $P^*$.\n",
    "\n",
    "- - - \n",
    "\n",
    "**(C)**: Show that the equilibrium price is endogenous in the model for demand.\n",
    "\n",
    "We have that $P^* = \\frac{\\alpha^d - \\alpha^s + U^s - U^d - Z_\\gamma}{\\beta^s - \\beta^d}$. We can see that $P^*$ is endogenous in the model for demand because $U^d$ is a random variable that is not observed. Thus, $P^*$ is a function of $U^d$ and is endogenous in the model for demand.\n",
    "\n",
    "- - -\n",
    "\n",
    "**(D)**: Show that $Z$ is relevant and exogenous as an instrument for $P$ in the demand model. Assume that $\\gamma \\neq 0, \\mathbb{E}\\left[ZU^s\\right] = \\mathbb{E}\\left[ZU^d\\right] = \\mathbb{E}\\left[U^sU^d\\right] = 0$ and $var(Z) > 0$.\n",
    "\n",
    "To do so, we want to show that $\\mathbb{E}\\left[ZP\\right] \\neq 0$ and $\\mathbb{E}\\left[ZU^d\\right] = 0$. Note that we are assuming that $\\mathbb{E}\\left[ZU^s\\right] = 0$ and $\\mathbb{E}\\left[ZU^d\\right] = 0$, so we already have exogeneity.\n",
    "\n",
    "Thus, we need to show relevance. \n",
    "$\\begin{align}\n",
    "\\mathbb{E}\\left[ZP\\right] &= \\mathbb{E}\\left[Z\\frac{\\alpha^d - \\alpha^s + U^s - U^d - Z_\\gamma}{\\beta^s - \\beta^d}\\right] \\\\\n",
    "&= \\frac{\\alpha^d - \\alpha^s + \\mathbb{E}\\left[ZU^s\\right] - \\mathbb{E}\\left[ZU^d\\right] - \\mathbb{E}\\left[Z^2\\gamma\\right]}{\\beta^s - \\beta^d} \\\\\n",
    "&= \\frac{\\alpha^d - \\alpha^s - \\mathbb{E}\\left[Z^2\\gamma\\right]}{\\beta^s - \\beta^d} \\neq 0\n",
    "\\end{align}$\n",
    "Thus, $Z$ is relevant and exogenous as an instrument for $P$ in the demand model.\n",
    "\n",
    "- - -\n",
    "\n",
    "**(E)**: Is $Z$ relevant as an instrument for $P$ in the supply model?\n",
    "\n",
    "No. $Z$ is in the model itself, so it is not relevant as an instrument for $P$ in the supply model.\n"
   ]
  },
  {
   "cell_type": "markdown",
   "metadata": {},
   "source": [
    "## Problem 2"
   ]
  },
  {
   "cell_type": "markdown",
   "metadata": {},
   "source": [
    "### 1"
   ]
  },
  {
   "cell_type": "code",
   "execution_count": 6,
   "metadata": {},
   "outputs": [],
   "source": [
    "def generate_data(n: int, b1: float, b2: float, b3: float, b4: float, gamma1: float, gamma2: float):\n",
    "    x2 = np.random.normal(0, 1, n)\n",
    "    v = np.random.normal(0, 0.1, n)\n",
    "    x1 = x2 + x2**2*gamma1 + x2**5*gamma2 + v\n",
    "    u = np.random.normal(0, 1, n)\n",
    "    y = b1 * x1 + b2 * x2 + x2**2*b3 + np.sin(x2)*b4 + u\n",
    "\n",
    "    return (y, x1, x2)"
   ]
  },
  {
   "cell_type": "markdown",
   "metadata": {},
   "source": [
    "### 2"
   ]
  },
  {
   "cell_type": "markdown",
   "metadata": {},
   "source": [
    "### 3"
   ]
  }
 ],
 "metadata": {
  "kernelspec": {
   "display_name": "data",
   "language": "python",
   "name": "python3"
  },
  "language_info": {
   "codemirror_mode": {
    "name": "ipython",
    "version": 3
   },
   "file_extension": ".py",
   "mimetype": "text/x-python",
   "name": "python",
   "nbconvert_exporter": "python",
   "pygments_lexer": "ipython3",
   "version": "3.10.9"
  }
 },
 "nbformat": 4,
 "nbformat_minor": 2
}
