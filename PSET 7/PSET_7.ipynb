{
 "cells": [
  {
   "cell_type": "code",
   "execution_count": 1,
   "metadata": {},
   "outputs": [],
   "source": [
    "import numpy as np\n",
    "import pandas as pd\n",
    "import statsmodels.api as sm\n",
    "from tqdm import tqdm  # I love this package, it makes me feel like a real coder - MV"
   ]
  },
  {
   "cell_type": "markdown",
   "metadata": {},
   "source": [
    "# Mark Viti \\& Marcus Lisman"
   ]
  },
  {
   "cell_type": "markdown",
   "metadata": {},
   "source": [
    "## Problem 1"
   ]
  },
  {
   "cell_type": "markdown",
   "metadata": {},
   "source": [
    "### 1\n",
    "**Problem:**\n",
    "For $Y = X\\beta + U$ where we observe $Y, \\tilde{X}, \\u{X}$ such that $\\tilde{X} = X + V^1$ and $\\u{X} = X + V^2$. Moreover, we have that for $j = {1, 2}$, $\\mathbb{E}\\left[V^j\\right] = 0, \\mathbb{E}[XV^j] = 0, \\mathbb{E}[V^1V^2] = 0$, $\\mathbb{E}\\left[UV^j\\right] = 0$, $\\mathbb{E}\\left[V^1V^2\\right]$. Verify the relevance and exogeneity of $\\u{X}$ as an instrument for $\\tilde{X}$.\n",
    "\n",
    "**Solution:**\n",
    "Recall the definitions of relevance and exogeneity:\n",
    "- Relevance: $\\mathbb{E}\\left[\\u{X}\\tilde{X}\\right] \\neq 0$\n",
    "- Exogeneity: $\\mathbb{E}\\left[\\u{X}U\\right] = 0$\n",
    "\n",
    "First, we verify relevance:\n",
    "$\\begin{align}\n",
    "\\mathbb{E}\\left[\\u{X}\\tilde{X}\\right] &= \\mathbb{E}\\left[\\left(X + V^2\\right)\\left(X + V^1\\right)\\right] \\\\\n",
    "&= \\mathbb{E}\\left[X^2 + XV^1 + XV^2 + V^1V^2\\right] \\\\\n",
    "&= \\mathbb{E}\\left[X^2\\right] + \\mathbb{E}\\left[XV^1\\right] + \\mathbb{E}\\left[XV^2\\right] + \\mathbb{E}\\left[V^1V^2\\right] \\\\\n",
    "&= \\mathbb{E}\\left[X^2\\right] + 0 + 0 + 0 \\\\\n",
    "&= \\mathbb{E}\\left[X^2\\right] \\neq 0\n",
    "\\end{align}$\n",
    "Now, someone asked on Ed if we can assume that $var{X} > 0$, which we can. This it is clear that $\\mathbb{E}\\left[\\u{X}\\tilde{X}\\right] \\neq 0$.\n",
    "\n",
    "Next, we verify exogeneity:\n",
    "$\\begin{align}\n",
    "\\mathbb{E}\\left[\\u{X}U\\right] &= \\mathbb{E}\\left[\\left(X + V^2\\right)U\\right] \\\\\n",
    "&= \\mathbb{E}\\left[XU + V^2U\\right] \\\\\n",
    "&= \\mathbb{E}\\left[XU\\right] + \\mathbb{E}\\left[V^2U\\right] \\\\\n",
    "&= \\mathbb{E}\\left[XU\\right] + 0 \\\\\n",
    "&= 0\n",
    "\\end{align}$\n",
    "Thus, $\\u{X}$ is both relevant and exogenous as an instrument for $\\tilde{X}$.\n",
    "QED"
   ]
  },
  {
   "cell_type": "markdown",
   "metadata": {},
   "source": [
    "### 2\n",
    "**Problem:**\n",
    "We have the following supply and demand equations:\n",
    "\n",
    "$Q^s(P) = \\alpha^s + P\\beta^s + Z_\\gamma + U^s$\n",
    "\n",
    "$Q^d(P) = \\alpha^d + P\\beta^d + U^d$\n",
    "- - - \n",
    "**(A)**: What is the expected sign of $\\beta^s$, $\\beta^d$, and $\\beta^d - \\beta^s$?\n",
    "\n",
    "The expected sign of $\\beta^s$ is positive, as the quantity supplied should increase with price. The expected sign of $\\beta^d$ is negative, as the quantity demanded should decrease with price. Thus, the expected sign of $\\beta^d - \\beta^s$ is negative.\n",
    "\n",
    "- - - \n",
    "\n",
    "**(B)**: Derive the equilibrium price. \n",
    "\n",
    "At equilibrium, $Q^s(P) = Q^d(P)$. Thus, we have:\n",
    "$\\begin{align}\n",
    "\\alpha^s + P\\beta^s + Z_\\gamma + U^s &= \\alpha^d + P\\beta^d + U^d \\\\\n",
    "P\\beta^s - P\\beta^d &= \\alpha^d - \\alpha^s + U^s - U^d - Z_\\gamma \\\\\n",
    "P(\\beta^s - \\beta^d) &= \\alpha^d - \\alpha^s + U^s - U^d - Z_\\gamma \\\\\n",
    "P &= \\frac{\\alpha^d - \\alpha^s + U^s - U^d - Z_\\gamma}{\\beta^s - \\beta^d}\n",
    "\\end{align}$\n",
    "We are going to call this price $P^*$.\n",
    "\n",
    "- - - \n",
    "\n",
    "**(C)**: Show that the equilibrium price is endogenous in the model for demand.\n",
    "\n",
    "We have that $P^* = \\frac{\\alpha^d - \\alpha^s + U^s - U^d - Z_\\gamma}{\\beta^s - \\beta^d}$. We can see that $P^*$ is endogenous in the model for demand because $U^d$ is a random variable that is not observed. Thus, $P^*$ is a function of $U^d$ and is endogenous in the model for demand.\n",
    "\n",
    "- - -\n",
    "\n",
    "**(D)**: Show that $Z$ is relevant and exogenous as an instrument for $P$ in the demand model. Assume that $\\gamma \\neq 0, \\mathbb{E}\\left[ZU^s\\right] = \\mathbb{E}\\left[ZU^d\\right] = \\mathbb{E}\\left[U^sU^d\\right] = 0$ and $var(Z) > 0$.\n",
    "\n",
    "To do so, we want to show that $\\mathbb{E}\\left[ZP\\right] \\neq 0$ and $\\mathbb{E}\\left[ZU^d\\right] = 0$. Note that we are assuming that $\\mathbb{E}\\left[ZU^s\\right] = 0$ and $\\mathbb{E}\\left[ZU^d\\right] = 0$, so we already have exogeneity.\n",
    "\n",
    "Thus, we need to show relevance. \n",
    "$\\begin{align}\n",
    "\\mathbb{E}\\left[ZP\\right] &= \\mathbb{E}\\left[Z\\frac{\\alpha^d - \\alpha^s + U^s - U^d - Z_\\gamma}{\\beta^s - \\beta^d}\\right] \\\\\n",
    "&= \\frac{\\alpha^d - \\alpha^s + \\mathbb{E}\\left[ZU^s\\right] - \\mathbb{E}\\left[ZU^d\\right] - \\mathbb{E}\\left[Z^2\\gamma\\right]}{\\beta^s - \\beta^d} \\\\\n",
    "&= \\frac{\\alpha^d - \\alpha^s - \\mathbb{E}\\left[Z^2\\gamma\\right]}{\\beta^s - \\beta^d} \\neq 0\n",
    "\\end{align}$\n",
    "Thus, $Z$ is relevant and exogenous as an instrument for $P$ in the demand model.\n",
    "\n",
    "- - -\n",
    "\n",
    "**(E)**: Is $Z$ relevant as an instrument for $P$ in the supply model?\n",
    "\n",
    "No. $Z$ is in the model itself, so it is not relevant as an instrument for $P$ in the supply model.\n"
   ]
  },
  {
   "cell_type": "markdown",
   "metadata": {},
   "source": [
    "## Problem 2"
   ]
  },
  {
   "cell_type": "markdown",
   "metadata": {},
   "source": [
    "### 1"
   ]
  },
  {
   "cell_type": "code",
   "execution_count": 2,
   "metadata": {},
   "outputs": [],
   "source": [
    "def generate_data(n: int, b1: float, b2: float, b3: float, b4: float, gamma1: float, gamma2: float):\n",
    "    x2 = np.random.normal(0, 1, n)\n",
    "    v = np.random.normal(0, 0.1, n)\n",
    "    x1 = x2 + x2**2*gamma1 + x2**5*gamma2 + v\n",
    "    u = np.random.normal(0, 1, n)\n",
    "    y = b1 * x1 + b2 * x2 + x2**2*b3 + np.sin(x2)*b4 + u\n",
    "\n",
    "    return (y, x1, x2)"
   ]
  },
  {
   "cell_type": "markdown",
   "metadata": {},
   "source": [
    "### 2"
   ]
  },
  {
   "cell_type": "code",
   "execution_count": 3,
   "metadata": {},
   "outputs": [],
   "source": [
    "import numpy as np\n",
    "import statsmodels.api as sm\n",
    "\n",
    "def estimate_coefficients(n, b1, b2):\n",
    "    # Generate data as per the previous function\n",
    "    x2 = np.random.normal(0, 1, n)\n",
    "    v = np.random.normal(0, 0.1, n)\n",
    "    x1 = x2 + v  # Since gamma1 = gamma2 = 0\n",
    "    u = np.random.normal(0, 1, n)\n",
    "    y = b1 * x1 + b2 * x2 + u  # Since beta3 = beta4 = 0\n",
    "\n",
    "    # Unrestricted Regression (y ~ x1 + x2)\n",
    "    X_unrestricted = sm.add_constant(np.column_stack((x1, x2)))\n",
    "    unrestricted_model = sm.OLS(y, X_unrestricted).fit()\n",
    "    b1_unrestricted = unrestricted_model.params[1]\n",
    "    se_unrestricted = unrestricted_model.bse[1]\n",
    "\n",
    "    # Restricted Regression (y ~ x1)\n",
    "    X_restricted = sm.add_constant(x1)\n",
    "    restricted_model = sm.OLS(y, X_restricted).fit()\n",
    "    b1_restricted = restricted_model.params[1]\n",
    "    se_restricted = restricted_model.bse[1]\n",
    "\n",
    "    # Pretest Regression: Using AIC/BIC or p-value for model selection could be an approach\n",
    "    # Here, the example will use AIC as a simple criterion\n",
    "    if unrestricted_model.aic < restricted_model.aic:\n",
    "        chosen_model = 'Unrestricted'\n",
    "        b1_pretest = b1_unrestricted\n",
    "        se_pretest = se_unrestricted\n",
    "    else:\n",
    "        chosen_model = 'Restricted'\n",
    "        b1_pretest = b1_restricted\n",
    "        se_pretest = se_restricted\n",
    "\n",
    "    return {\n",
    "        'Unrestricted': {'Coefficient': b1_unrestricted, 'Standard Error': se_unrestricted},\n",
    "        'Restricted': {'Coefficient': b1_restricted, 'Standard Error': se_restricted},\n",
    "        'Pretest': {'Chosen Model': chosen_model, 'Coefficient': b1_pretest, 'Standard Error': se_pretest}\n",
    "    }\n"
   ]
  },
  {
   "cell_type": "markdown",
   "metadata": {},
   "source": [
    "### 3"
   ]
  },
  {
   "cell_type": "code",
   "execution_count": 4,
   "metadata": {},
   "outputs": [
    {
     "name": "stderr",
     "output_type": "stream",
     "text": [
      "100%|██████████| 1000/1000 [00:01<00:00, 953.94it/s]\n",
      "100%|██████████| 1000/1000 [00:01<00:00, 794.13it/s]\n",
      "100%|██████████| 1000/1000 [00:01<00:00, 538.63it/s]\n",
      "100%|██████████| 1000/1000 [00:08<00:00, 120.64it/s]\n"
     ]
    }
   ],
   "source": [
    "\n",
    "n_values = [10, 100, 1000, 10000]\n",
    "S = 1000\n",
    "b1 = 2\n",
    "results = []\n",
    "\n",
    "for n in n_values:\n",
    "    b2 = 3 * np.sqrt(n)\n",
    "    for s in tqdm(range(S)):  # tqdm is optional\n",
    "        # Generate dataset\n",
    "        y, x1, x2 = generate_data(n, b1, b2, 0, 0, 0, 0)  # Assuming gamma values are needed and set to 0\n",
    "\n",
    "        # Compute estimators\n",
    "        estimators = estimate_coefficients(n, b1, b2)\n",
    "        \n",
    "        results.append({\n",
    "            'n': n,\n",
    "            's': s,\n",
    "            'Unrestricted Coefficient': estimators['Unrestricted']['Coefficient'],\n",
    "            'Unrestricted SE': estimators['Unrestricted']['Standard Error'],\n",
    "            'Restricted Coefficient': estimators['Restricted']['Coefficient'],\n",
    "            'Restricted SE': estimators['Restricted']['Standard Error'],\n",
    "            'Pretest Chosen Model': estimators['Pretest']['Chosen Model'],\n",
    "            'Pretest Coefficient': estimators['Pretest']['Coefficient'],\n",
    "            'Pretest SE': estimators['Pretest']['Standard Error']\n",
    "        })\n",
    "\n",
    "df_results = pd.DataFrame(results)\n"
   ]
  },
  {
   "cell_type": "markdown",
   "metadata": {},
   "source": [
    "### 4"
   ]
  },
  {
   "cell_type": "code",
   "execution_count": 5,
   "metadata": {},
   "outputs": [
    {
     "name": "stdout",
     "output_type": "stream",
     "text": [
      "       n Unrestricted Coefficient            Restricted Coefficient            \\\n",
      "                             mean        var                   mean       var   \n",
      "0     10                 2.087807  17.786043              11.398245  0.249760   \n",
      "1    100                 2.104309   1.037656              31.715019  0.101314   \n",
      "2   1000                 2.004309   0.098573              95.936805  0.090079   \n",
      "3  10000                 1.999758   0.009761             299.020228  0.089247   \n",
      "\n",
      "  Pretest Coefficient             \n",
      "                 mean        var  \n",
      "0            2.524996  22.966214  \n",
      "1            2.104309   1.037656  \n",
      "2            2.004309   0.098573  \n",
      "3            1.999758   0.009761  \n"
     ]
    }
   ],
   "source": [
    "summary_stats = df_results.groupby('n').agg({\n",
    "    'Unrestricted Coefficient': ['mean', 'var'],\n",
    "    'Restricted Coefficient': ['mean', 'var'],\n",
    "    'Pretest Coefficient': ['mean', 'var']\n",
    "}).reset_index()\n",
    "\n",
    "print(summary_stats)\n"
   ]
  },
  {
   "cell_type": "code",
   "execution_count": 6,
   "metadata": {},
   "outputs": [
    {
     "name": "stdout",
     "output_type": "stream",
     "text": [
      "Pretest Chosen Model      n  Restricted  Unrestricted\n",
      "0                        10       0.134         0.866\n",
      "1                       100         NaN         1.000\n",
      "2                      1000         NaN         1.000\n",
      "3                     10000         NaN         1.000\n"
     ]
    }
   ],
   "source": [
    "true_model_counts = df_results.groupby('n')['Pretest Chosen Model'].value_counts(normalize=True).unstack().reset_index()\n",
    "\n",
    "print(true_model_counts)\n"
   ]
  },
  {
   "cell_type": "code",
   "execution_count": 7,
   "metadata": {},
   "outputs": [
    {
     "name": "stdout",
     "output_type": "stream",
     "text": [
      "          Model  Coverage Fraction  Average CI Length\n",
      "0  Unrestricted              0.939           5.114588\n",
      "1    Restricted              0.000           1.369599\n",
      "2       Pretest              0.912           4.481197\n"
     ]
    }
   ],
   "source": [
    "def ci_coverage_and_length(df, true_coefficient):\n",
    "    \"\"\"\n",
    "    Calculate the coverage and length of confidence intervals for each estimator type.\n",
    "    \"\"\"\n",
    "    results = []\n",
    "    for estimator in ['Unrestricted', 'Restricted', 'Pretest']:\n",
    "        coefficient_col = f'{estimator} Coefficient'\n",
    "        se_col = f'{estimator} SE'\n",
    "        \n",
    "        # Calculate CI bounds\n",
    "        ci_lower = df[coefficient_col] - 1.96 * df[se_col]\n",
    "        ci_upper = df[coefficient_col] + 1.96 * df[se_col]\n",
    "        \n",
    "        # Determine if true coefficient is within CI\n",
    "        df[f'{estimator} Contains True'] = (ci_lower <= true_coefficient) & (ci_upper >= true_coefficient)\n",
    "        \n",
    "        df[f'{estimator} CI Length'] = ci_upper - ci_lower\n",
    "        \n",
    "        coverage_fraction = df[f'{estimator} Contains True'].mean()\n",
    "        average_ci_length = df[f'{estimator} CI Length'].mean()\n",
    "        \n",
    "        results.append({\n",
    "            'Model': estimator,\n",
    "            'Coverage Fraction': coverage_fraction,\n",
    "            'Average CI Length': average_ci_length\n",
    "        })\n",
    "\n",
    "    return pd.DataFrame(results)\n",
    "\n",
    "true_coefficient_b1 = 2 \n",
    "summary_ci = ci_coverage_and_length(df_results, true_coefficient_b1)\n",
    "\n",
    "print(summary_ci)\n"
   ]
  },
  {
   "cell_type": "markdown",
   "metadata": {},
   "source": [
    "### 5"
   ]
  }
 ],
 "metadata": {
  "kernelspec": {
   "display_name": "data",
   "language": "python",
   "name": "python3"
  },
  "language_info": {
   "codemirror_mode": {
    "name": "ipython",
    "version": 3
   },
   "file_extension": ".py",
   "mimetype": "text/x-python",
   "name": "python",
   "nbconvert_exporter": "python",
   "pygments_lexer": "ipython3",
   "version": "3.10.9"
  }
 },
 "nbformat": 4,
 "nbformat_minor": 2
}
