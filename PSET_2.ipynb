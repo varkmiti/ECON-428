{
 "cells": [
  {
   "cell_type": "code",
   "execution_count": 1,
   "metadata": {},
   "outputs": [],
   "source": [
    "import numpy as np\n",
    "import pandas as pd\n",
    "import matplotlib.pyplot as plt\n",
    "import seaborn as sns\n",
    "np.random.seed(428)"
   ]
  },
  {
   "cell_type": "markdown",
   "metadata": {},
   "source": [
    "# Problem 1"
   ]
  },
  {
   "cell_type": "code",
   "execution_count": 2,
   "metadata": {},
   "outputs": [],
   "source": [
    "df = pd.read_csv('ps2data.csv', index_col=0)"
   ]
  },
  {
   "cell_type": "markdown",
   "metadata": {},
   "source": [
    "## Part 1\n",
    "**There are not graduate students in our group**\n",
    "## Part 2\n",
    "\n",
    "## Part 3\n",
    "### (A)"
   ]
  },
  {
   "cell_type": "markdown",
   "metadata": {},
   "source": [
    "### (B)\n",
    "\n",
    "## Part 4"
   ]
  },
  {
   "cell_type": "code",
   "execution_count": 3,
   "metadata": {},
   "outputs": [],
   "source": [
    "def cross_validation_fn(\n",
    "    data: pd.DataFrame,\n",
    "    K: int,\n",
    "    func: callable,\n",
    "    **kwargs\n",
    ") -> float:\n",
    "    \"\"\"\n",
    "    Perform K-fold cross validation on the given data using the given function.\n",
    "    \"\"\"\n",
    "    # Shuffle the data\n",
    "    data = data.sample(frac=1).reset_index(drop=True)\n",
    "    # Split the data into K folds\n",
    "    folds = np.array_split(data, K)\n",
    "    # Perform cross validation\n",
    "    errors = []\n",
    "    for i in range(K):\n",
    "        # Create the training and testing sets\n",
    "        test = folds[i]\n",
    "        train = pd.concat([folds[j] for j in range(K) if j != i])\n",
    "        # Perform the function\n",
    "        error = func(train, test, **kwargs)\n",
    "        errors.append(error)\n",
    "    return np.mean(errors)"
   ]
  },
  {
   "cell_type": "code",
   "execution_count": 27,
   "metadata": {},
   "outputs": [],
   "source": [
    "# Use our cross validation function to find the best degree polynomial\n",
    "def choose_polynomial(data: pd.DataFrame, degree: int=30) -> float:\n",
    "    error = []\n",
    "    for i in range(1, degree+1):\n",
    "        error.append(cross_validation_fn(\n",
    "            df,\n",
    "            15,\n",
    "            lambda train, test, degree: np.mean((np.polyval(np.polyfit(train['x'], train['y'], degree), test['x']) - test['y'])**2),\n",
    "            degree=i\n",
    "        ))\n",
    "    return error.index(min(error)) + 1"
   ]
  },
  {
   "cell_type": "code",
   "execution_count": 37,
   "metadata": {},
   "outputs": [],
   "source": [
    "%%capture\n",
    "best_degree = choose_polynomial(df)"
   ]
  },
  {
   "cell_type": "code",
   "execution_count": 38,
   "metadata": {},
   "outputs": [
    {
     "name": "stdout",
     "output_type": "stream",
     "text": [
      "The best degree polynomial is 5\n"
     ]
    }
   ],
   "source": [
    "print(f\"The best degree polynomial is {best_degree}\")"
   ]
  },
  {
   "cell_type": "markdown",
   "metadata": {},
   "source": [
    "# Problem 2\n",
    "**I have not seen expected optimism yet**"
   ]
  },
  {
   "cell_type": "markdown",
   "metadata": {},
   "source": [
    "# Problem 3\n",
    "## 1. "
   ]
  },
  {
   "cell_type": "code",
   "execution_count": 60,
   "metadata": {},
   "outputs": [],
   "source": [
    "def calc_ATE(data: pd.DataFrame) -> float:\n",
    "    return data[data['treatment'] == 1]['Outcomes'].mean() - data[data['treatment'] == 0]['Outcomes'].mean()\n",
    "\n",
    "def does_ATE_work(data: pd.DataFrame, err: float = 1e-1) -> bool:\n",
    "    formula_ATE = calc_ATE(data)\n",
    "    real_ATE = data[data['treatment'] != 0]['treatment'].mean() \n",
    "    print(f'Formula ATE: {formula_ATE}')\n",
    "    print(f'Real ATE: {real_ATE}')\n",
    "    return (abs(formula_ATE - real_ATE) < err, formula_ATE, real_ATE)"
   ]
  },
  {
   "cell_type": "code",
   "execution_count": 43,
   "metadata": {},
   "outputs": [],
   "source": [
    "# Generating a random dataset such that outcomes are not well approximated by ATE\n",
    "n = 1000\n",
    "# Step 1: Create a dataset such that the outcome is not independent of the treatment\n",
    "Y = np.random.binomial(1, 0.5, size=n)\n",
    "treatment = [0 if y == 0 else 1 for y in Y]\n",
    "\n",
    "data = pd.DataFrame({'Y': Y, 'treatment': treatment})\n",
    "data['Outcomes'] = data['treatment'] + data['Y'] + np.random.normal(0, 0.1, n)"
   ]
  },
  {
   "cell_type": "code",
   "execution_count": 44,
   "metadata": {},
   "outputs": [
    {
     "name": "stdout",
     "output_type": "stream",
     "text": [
      "Formula ATE: 1.9980062427524492\n",
      "Real ATE: 1.0\n"
     ]
    },
    {
     "data": {
      "text/plain": [
       "(False, 1.9980062427524492, 1.0)"
      ]
     },
     "execution_count": 44,
     "metadata": {},
     "output_type": "execute_result"
    }
   ],
   "source": [
    "calc_ATE(data)\n",
    "does_ATE_work(data)"
   ]
  },
  {
   "cell_type": "markdown",
   "metadata": {},
   "source": [
    "## 2."
   ]
  },
  {
   "cell_type": "code",
   "execution_count": 95,
   "metadata": {},
   "outputs": [
    {
     "name": "stdout",
     "output_type": "stream",
     "text": [
      "Formula ATE: 0.9805256441738843\n",
      "Real ATE: 1.0\n"
     ]
    },
    {
     "data": {
      "text/plain": [
       "(True, 0.9805256441738843, 1.0)"
      ]
     },
     "execution_count": 95,
     "metadata": {},
     "output_type": "execute_result"
    }
   ],
   "source": [
    "Y_2 = np.random.binomial(1, 0.5, size=n)\n",
    "treatment_2 = np.random.binomial(1, 0.5, size=n)\n",
    "\n",
    "data_2 = pd.DataFrame({'Y': Y_2, 'treatment': treatment_2, 'Outcomes': Y_2 + treatment_2 + np.random.normal(0, 0.1, n)})\n",
    "calc_ATE(data_2)\n",
    "does_ATE_work(data_2)"
   ]
  }
 ],
 "metadata": {
  "kernelspec": {
   "display_name": "data",
   "language": "python",
   "name": "python3"
  },
  "language_info": {
   "codemirror_mode": {
    "name": "ipython",
    "version": 3
   },
   "file_extension": ".py",
   "mimetype": "text/x-python",
   "name": "python",
   "nbconvert_exporter": "python",
   "pygments_lexer": "ipython3",
   "version": "3.10.9"
  }
 },
 "nbformat": 4,
 "nbformat_minor": 2
}
