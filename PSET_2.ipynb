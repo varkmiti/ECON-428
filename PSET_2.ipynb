{
 "cells": [
  {
   "cell_type": "code",
   "execution_count": 3,
   "metadata": {},
   "outputs": [],
   "source": [
    "import numpy as np\n",
    "import pandas as pd\n",
    "import matplotlib.pyplot as plt\n",
    "import seaborn as sns\n",
    "np.random.seed(428)"
   ]
  },
  {
   "cell_type": "markdown",
   "metadata": {},
   "source": [
    "# Problem 2\n",
    "**I have not seen expected optimism yet**"
   ]
  },
  {
   "cell_type": "markdown",
   "metadata": {},
   "source": [
    "# Problem 3\n",
    "## 1. "
   ]
  },
  {
   "cell_type": "code",
   "execution_count": 60,
   "metadata": {},
   "outputs": [],
   "source": [
    "def calc_ATE(data: pd.DataFrame) -> float:\n",
    "    return data[data['treatment'] == 1]['Outcomes'].mean() - data[data['treatment'] == 0]['Outcomes'].mean()\n",
    "\n",
    "def does_ATE_work(data: pd.DataFrame, err: float = 1e-1) -> bool:\n",
    "    formula_ATE = calc_ATE(data)\n",
    "    real_ATE = data[data['treatment'] != 0]['treatment'].mean() \n",
    "    print(f'Formula ATE: {formula_ATE}')\n",
    "    print(f'Real ATE: {real_ATE}')\n",
    "    return (abs(formula_ATE - real_ATE) < err, formula_ATE, real_ATE)"
   ]
  },
  {
   "cell_type": "code",
   "execution_count": 43,
   "metadata": {},
   "outputs": [],
   "source": [
    "# Generating a random dataset such that outcomes are not well approximated by ATE\n",
    "n = 1000\n",
    "# Step 1: Create a dataset such that the outcome is not independent of the treatment\n",
    "Y = np.random.binomial(1, 0.5, size=n)\n",
    "treatment = [0 if y == 0 else 1 for y in Y]\n",
    "\n",
    "data = pd.DataFrame({'Y': Y, 'treatment': treatment})\n",
    "data['Outcomes'] = data['treatment'] + data['Y'] + np.random.normal(0, 0.1, n)"
   ]
  },
  {
   "cell_type": "code",
   "execution_count": 44,
   "metadata": {},
   "outputs": [
    {
     "name": "stdout",
     "output_type": "stream",
     "text": [
      "Formula ATE: 1.9980062427524492\n",
      "Real ATE: 1.0\n"
     ]
    },
    {
     "data": {
      "text/plain": [
       "(False, 1.9980062427524492, 1.0)"
      ]
     },
     "execution_count": 44,
     "metadata": {},
     "output_type": "execute_result"
    }
   ],
   "source": [
    "calc_ATE(data)\n",
    "does_ATE_work(data)"
   ]
  },
  {
   "cell_type": "markdown",
   "metadata": {},
   "source": [
    "## 2."
   ]
  },
  {
   "cell_type": "code",
   "execution_count": 95,
   "metadata": {},
   "outputs": [
    {
     "name": "stdout",
     "output_type": "stream",
     "text": [
      "Formula ATE: 0.9805256441738843\n",
      "Real ATE: 1.0\n"
     ]
    },
    {
     "data": {
      "text/plain": [
       "(True, 0.9805256441738843, 1.0)"
      ]
     },
     "execution_count": 95,
     "metadata": {},
     "output_type": "execute_result"
    }
   ],
   "source": [
    "Y_2 = np.random.binomial(1, 0.5, size=n)\n",
    "treatment_2 = np.random.binomial(1, 0.5, size=n)\n",
    "\n",
    "data_2 = pd.DataFrame({'Y': Y_2, 'treatment': treatment_2, 'Outcomes': Y_2 + treatment_2 + np.random.normal(0, 0.1, n)})\n",
    "calc_ATE(data_2)\n",
    "does_ATE_work(data_2)"
   ]
  }
 ],
 "metadata": {
  "kernelspec": {
   "display_name": "data",
   "language": "python",
   "name": "python3"
  },
  "language_info": {
   "codemirror_mode": {
    "name": "ipython",
    "version": 3
   },
   "file_extension": ".py",
   "mimetype": "text/x-python",
   "name": "python",
   "nbconvert_exporter": "python",
   "pygments_lexer": "ipython3",
   "version": "3.10.9"
  }
 },
 "nbformat": 4,
 "nbformat_minor": 2
}
